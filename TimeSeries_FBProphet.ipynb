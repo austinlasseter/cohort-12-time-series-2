{
 "cells": [
  {
   "cell_type": "markdown",
   "metadata": {},
   "source": [
    "<img src=\"http://imgur.com/1ZcRyrc.png\" style=\"float: left; margin: 20px; height: 55px\">\n",
    "\n",
    "# Working With Time Series Data in FBProphet\n",
    "\n",
    "_By Steven Longstreet (Washington DC) and Bryce Peake (Washington DC)_"
   ]
  },
  {
   "cell_type": "markdown",
   "metadata": {},
   "source": [
    "### Learning Objectives\n",
    " \n",
    "**After this lesson, you will be able to:**\n",
    "- Identify time series data.\n",
    "- Explain the challenges of working with time series data.\n",
    "- Use the `datetime` library to represent dates as objects.\n",
    "- Preprocess time series data with Pandas\n",
    "- Create and visualize a Time Series model using FBProphet\n",
    "- Evaluate a Time Series model"
   ]
  },
  {
   "cell_type": "markdown",
   "metadata": {},
   "source": [
    "<h2><a id=\"A\">What is a Time Series?</a></h2>\n",
    "A **time series** is a series of data points that's indexed (or listed, or graphed) in time order. Most commonly, a time series is a sequence that's taken at successive equally spaced points in time. Time series are often represented as a set of observations that have a time-bound relation, which is represented as an index.\n",
    "\n",
    "Time series are commonly found in sales, analysis, stock market trends, economic phenomena, and social science problems.\n",
    "\n",
    "These data sets are often investigated to evaluate the long-term trends, forecast the future, or perform some other form of analysis."
   ]
  },
  {
   "cell_type": "markdown",
   "metadata": {},
   "source": [
    "### Let's take a look at some Apple stock data to get a feel for what time series data look like."
   ]
  },
  {
   "cell_type": "code",
   "execution_count": 1,
   "metadata": {
    "ExecuteTime": {
     "end_time": "2021-03-15T21:51:56.861756Z",
     "start_time": "2021-03-15T21:51:54.274706Z"
    }
   },
   "outputs": [],
   "source": [
    "import pandas as pd\n",
    "from datetime import timedelta\n",
    "%matplotlib inline"
   ]
  },
  {
   "cell_type": "code",
   "execution_count": 1,
   "metadata": {
    "ExecuteTime": {
     "end_time": "2020-08-18T22:40:27.289988Z",
     "start_time": "2020-08-18T22:40:24.740450Z"
    }
   },
   "outputs": [
    {
     "data": {
      "text/html": [
       "<div>\n",
       "<style scoped>\n",
       "    .dataframe tbody tr th:only-of-type {\n",
       "        vertical-align: middle;\n",
       "    }\n",
       "\n",
       "    .dataframe tbody tr th {\n",
       "        vertical-align: top;\n",
       "    }\n",
       "\n",
       "    .dataframe thead th {\n",
       "        text-align: right;\n",
       "    }\n",
       "</style>\n",
       "<table border=\"1\" class=\"dataframe\">\n",
       "  <thead>\n",
       "    <tr style=\"text-align: right;\">\n",
       "      <th></th>\n",
       "      <th>Date</th>\n",
       "      <th>Open</th>\n",
       "      <th>High</th>\n",
       "      <th>Low</th>\n",
       "      <th>Close</th>\n",
       "      <th>Volume</th>\n",
       "    </tr>\n",
       "  </thead>\n",
       "  <tbody>\n",
       "    <tr>\n",
       "      <th>0</th>\n",
       "      <td>13-Jan-17</td>\n",
       "      <td>119.11</td>\n",
       "      <td>119.62</td>\n",
       "      <td>118.81</td>\n",
       "      <td>119.04</td>\n",
       "      <td>26111948</td>\n",
       "    </tr>\n",
       "    <tr>\n",
       "      <th>1</th>\n",
       "      <td>12-Jan-17</td>\n",
       "      <td>118.90</td>\n",
       "      <td>119.30</td>\n",
       "      <td>118.21</td>\n",
       "      <td>119.25</td>\n",
       "      <td>27086220</td>\n",
       "    </tr>\n",
       "    <tr>\n",
       "      <th>2</th>\n",
       "      <td>11-Jan-17</td>\n",
       "      <td>118.74</td>\n",
       "      <td>119.93</td>\n",
       "      <td>118.60</td>\n",
       "      <td>119.75</td>\n",
       "      <td>27588593</td>\n",
       "    </tr>\n",
       "    <tr>\n",
       "      <th>3</th>\n",
       "      <td>10-Jan-17</td>\n",
       "      <td>118.77</td>\n",
       "      <td>119.38</td>\n",
       "      <td>118.30</td>\n",
       "      <td>119.11</td>\n",
       "      <td>24462051</td>\n",
       "    </tr>\n",
       "    <tr>\n",
       "      <th>4</th>\n",
       "      <td>9-Jan-17</td>\n",
       "      <td>117.95</td>\n",
       "      <td>119.43</td>\n",
       "      <td>117.94</td>\n",
       "      <td>118.99</td>\n",
       "      <td>33561948</td>\n",
       "    </tr>\n",
       "  </tbody>\n",
       "</table>\n",
       "</div>"
      ],
      "text/plain": [
       "        Date    Open    High     Low   Close    Volume\n",
       "0  13-Jan-17  119.11  119.62  118.81  119.04  26111948\n",
       "1  12-Jan-17  118.90  119.30  118.21  119.25  27086220\n",
       "2  11-Jan-17  118.74  119.93  118.60  119.75  27588593\n",
       "3  10-Jan-17  118.77  119.38  118.30  119.11  24462051\n",
       "4   9-Jan-17  117.95  119.43  117.94  118.99  33561948"
      ]
     },
     "execution_count": 1,
     "metadata": {},
     "output_type": "execute_result"
    }
   ],
   "source": [
    "apple_stock = pd.read_csv(\"./data/aapl.csv\")\n",
    "apple_stock.head()"
   ]
  },
  {
   "cell_type": "markdown",
   "metadata": {},
   "source": [
    "<h2><a id=\"B\">The DateTime library</a></h2>\n",
    "As time is important to time series data, we will need to interpret these data in the ways that humans interpret them (which is many ways). \n",
    "\n",
    "Python's `DateTime` library is great for dealing with time-related data, and Pandas has incorporated this library into its own `datetime` series and objects.\n",
    "\n",
    "In this lesson, we'll review these data types and learn a little more about each of them:\n",
    "\n",
    "* `datetime` objects.\n",
    "* `datetime` series.\n",
    "* Timestamps.\n",
    "* `timedelta()`.\n",
    "\n",
    "### `datetime` Objects\n",
    "Below, we'll load in the `DateTime` library, which we can use to create a `datetime` object by entering in the different components of the date as arguments."
   ]
  },
  {
   "cell_type": "code",
   "execution_count": null,
   "metadata": {
    "ExecuteTime": {
     "end_time": "2019-09-09T13:37:09.149445Z",
     "start_time": "2019-09-09T13:37:09.145455Z"
    }
   },
   "outputs": [],
   "source": [
    "# The datetime library is something you should already have from Anaconda.\n",
    "from datetime import datetime"
   ]
  },
  {
   "cell_type": "code",
   "execution_count": null,
   "metadata": {
    "ExecuteTime": {
     "end_time": "2019-09-09T13:37:11.202926Z",
     "start_time": "2019-09-09T13:37:11.197940Z"
    }
   },
   "outputs": [],
   "source": [
    "# Let's just set a random datetime — not the end of the world or anything.\n",
    "lesson_date = datetime(2012, 12, 21, 12, 21, 12, 844089)"
   ]
  },
  {
   "cell_type": "code",
   "execution_count": null,
   "metadata": {
    "ExecuteTime": {
     "end_time": "2019-09-09T13:37:12.648016Z",
     "start_time": "2019-09-09T13:37:12.638043Z"
    }
   },
   "outputs": [],
   "source": [
    "#The components of the date are accessible via the object's attributes.\n",
    "print(\"Micro-Second\", lesson_date.microsecond)\n",
    "print(\"Second\", lesson_date.second)\n",
    "print(\"Minute\", lesson_date.minute)\n",
    "print(\"Hour\", lesson_date.hour)\n",
    "print(\"Day\", lesson_date.day)\n",
    "print(\"Month\",lesson_date.month)\n",
    "print(\"Year\", lesson_date.year)"
   ]
  },
  {
   "cell_type": "markdown",
   "metadata": {},
   "source": [
    "### `timedelta()`\n",
    "Suppose we want to add time to or subtract time from a date. Maybe we're using time as an index and want to get everything that happened a week before a specific observation.\n",
    "\n",
    "We can use a `timedelta` object to shift a `datetime` object. Here's an example:"
   ]
  },
  {
   "cell_type": "code",
   "execution_count": null,
   "metadata": {
    "ExecuteTime": {
     "end_time": "2019-09-09T13:37:14.769837Z",
     "start_time": "2019-09-09T13:37:14.761859Z"
    }
   },
   "outputs": [],
   "source": [
    "# Import timedelta() from the DateTime library.\n",
    "from datetime import timedelta\n",
    "\n",
    "# Timedeltas represent time as an amount rather than as a fixed position.\n",
    "offset = timedelta(days=1, seconds=20)\n",
    "\n",
    "# The timedelta() has attributes that allow us to extract values from it.\n",
    "print('offset days', offset.days)\n",
    "print('offset seconds', offset.seconds)\n",
    "print('offset microseconds', offset.microseconds)"
   ]
  },
  {
   "cell_type": "markdown",
   "metadata": {},
   "source": [
    "`datetime`'s `.now()` function will give you the `datetime` object of this very moment."
   ]
  },
  {
   "cell_type": "code",
   "execution_count": null,
   "metadata": {
    "ExecuteTime": {
     "end_time": "2019-09-09T13:37:17.164505Z",
     "start_time": "2019-09-09T13:37:17.160515Z"
    }
   },
   "outputs": [],
   "source": [
    "now = datetime.now()\n",
    "print(\"Like Right Now: \", now)"
   ]
  },
  {
   "cell_type": "markdown",
   "metadata": {},
   "source": [
    "The current time is particularly useful when using `timedelta()`."
   ]
  },
  {
   "cell_type": "code",
   "execution_count": null,
   "metadata": {
    "ExecuteTime": {
     "end_time": "2019-09-09T13:37:20.754045Z",
     "start_time": "2019-09-09T13:37:20.748057Z"
    }
   },
   "outputs": [],
   "source": [
    "print(\"Future: \", now + offset)\n",
    "print(\"Past: \", now - offset)"
   ]
  },
  {
   "cell_type": "markdown",
   "metadata": {},
   "source": [
    "*Note: The largest value a `timedelta()` can hold is days. For instance, you can't say you want your offset to be two years, 44 days, and 12 hours; you have to convert those years to days.*\n",
    "\n",
    "You can read more about the `timedelta()` category [here](https://docs.python.org/2/library/datetime.html)."
   ]
  },
  {
   "cell_type": "markdown",
   "metadata": {
    "ExecuteTime": {
     "end_time": "2019-01-02T17:47:52.977683Z",
     "start_time": "2019-01-02T17:47:52.973677Z"
    }
   },
   "source": [
    "## Preprocessing Time Series Data with Pandas"
   ]
  },
  {
   "cell_type": "code",
   "execution_count": null,
   "metadata": {
    "ExecuteTime": {
     "end_time": "2019-01-02T17:49:08.091220Z",
     "start_time": "2019-01-02T17:49:07.974402Z"
    }
   },
   "outputs": [],
   "source": [
    "#Overwrite the original `Date` column with one that's been converted to a `datetime` series.\n",
    "apple_stock['Date'] = pd.to_datetime(apple_stock.Date)\n",
    "apple_stock.dtypes"
   ]
  },
  {
   "cell_type": "markdown",
   "metadata": {},
   "source": [
    "### The `.dt` Attribute\n",
    "Pandas' `datetime` columns have a `.dt` attribute that allows you to access attributes that are specific to dates. For example:\n",
    "\n",
    "    aapl.Date.dt.day\n",
    "    aapl.Date.dt.month\n",
    "    aapl.Date.dt.year\n",
    "    aapl.Date.dt.weekday_name\n",
    "\n",
    "Check out the Pandas `.dt` [documentation](https://pandas.pydata.org/pandas-docs/stable/generated/pandas.Series.dt.html) for more information."
   ]
  },
  {
   "cell_type": "code",
   "execution_count": null,
   "metadata": {},
   "outputs": [],
   "source": [
    "apple_stock.Date.dt.weekday_name.head()"
   ]
  },
  {
   "cell_type": "code",
   "execution_count": null,
   "metadata": {},
   "outputs": [],
   "source": [
    "apple_stock.Date.dt.dayofyear.head()"
   ]
  },
  {
   "cell_type": "markdown",
   "metadata": {},
   "source": [
    "### Timestamps\n",
    "Timestamps are useful objects for comparisons. You can create a timestamp object using the `pd.to_datetime()` function and a string specifying the date. These objects are especially helpful when you need to perform logical filtering with dates."
   ]
  },
  {
   "cell_type": "code",
   "execution_count": null,
   "metadata": {
    "ExecuteTime": {
     "end_time": "2019-01-02T17:50:54.674698Z",
     "start_time": "2019-01-02T17:50:54.665671Z"
    }
   },
   "outputs": [],
   "source": [
    "ts = pd.to_datetime('1/1/2017')\n",
    "ts"
   ]
  },
  {
   "cell_type": "code",
   "execution_count": null,
   "metadata": {},
   "outputs": [],
   "source": [
    "'''\n",
    "The main difference between a `datetime` object and a timestamp is that timestamps can be used as comparisons.\n",
    "\n",
    "'''\n",
    "\n"
   ]
  },
  {
   "cell_type": "code",
   "execution_count": null,
   "metadata": {},
   "outputs": [],
   "source": [
    "apple_stock.loc[apple_stock.Date >= ts, :].head()"
   ]
  },
  {
   "cell_type": "markdown",
   "metadata": {},
   "source": [
    "### Filter by date with Pandas\n",
    "It is easy to filter by date using Pandas. Let's create a subset of data containing only the stock prices from 2017. We can specify the index as a string constant. "
   ]
  },
  {
   "cell_type": "code",
   "execution_count": null,
   "metadata": {},
   "outputs": [],
   "source": [
    "#first, set the date (as a datetime obj) as the index\n",
    "apple_stock.set_index('Date', inplace=True)"
   ]
  },
  {
   "cell_type": "code",
   "execution_count": null,
   "metadata": {},
   "outputs": [],
   "source": [
    "#we can ask for only that data from December 2016\n",
    "apple_stock['2016-12']"
   ]
  },
  {
   "cell_type": "markdown",
   "metadata": {},
   "source": [
    "There are a few things to note about indexing with time series. Unlike numeric indexing, the end index will be included. If you want to index with a range, the time indices must be sorted first.  \n",
    "\n",
    "> **Recap:** The steps for preprocessing time series data are to:\n",
    "* Convert time data to a `datetime` object.\n",
    "* Set `datetime` to index the DataFrame."
   ]
  },
  {
   "cell_type": "markdown",
   "metadata": {},
   "source": [
    "## Independent Practice\n",
    "Let's use the UFO data set to build a timeseries"
   ]
  },
  {
   "cell_type": "code",
   "execution_count": null,
   "metadata": {
    "ExecuteTime": {
     "end_time": "2019-01-02T17:55:12.039745Z",
     "start_time": "2019-01-02T17:55:12.036737Z"
    }
   },
   "outputs": [],
   "source": [
    "# Create a `datetime` object representing today's date.\n"
   ]
  },
  {
   "cell_type": "code",
   "execution_count": null,
   "metadata": {},
   "outputs": [],
   "source": [
    "# Load the UFO data set from the internet.\n",
    "import pandas as pd\n",
    "from datetime import timedelta\n",
    "%matplotlib inline\n",
    "\n",
    "ufo = pd.read_csv('http://bit.ly/uforeports')"
   ]
  },
  {
   "cell_type": "code",
   "execution_count": null,
   "metadata": {},
   "outputs": [],
   "source": [
    "# Convert the Time column to a datetime object.\n"
   ]
  },
  {
   "cell_type": "code",
   "execution_count": null,
   "metadata": {},
   "outputs": [],
   "source": [
    "# Set the `Time` column to the index of the dataframe.\n"
   ]
  },
  {
   "cell_type": "code",
   "execution_count": null,
   "metadata": {},
   "outputs": [],
   "source": [
    "# Create a `timestamp` object for the date January 1, 1999.\n"
   ]
  },
  {
   "cell_type": "code",
   "execution_count": null,
   "metadata": {},
   "outputs": [],
   "source": [
    "# Create a subset of entries with a date above or equal to January 1, 1999 using a timestamp object.\n"
   ]
  },
  {
   "cell_type": "markdown",
   "metadata": {},
   "source": [
    "## Time Series modeling with FBProphet\n",
    "You will need to install prophet for this notebook. While we've used `pip install` in the past, it often causes errors. So, in terminal, we'll use an alternative: `conda install -c conda-forge fbprophet`"
   ]
  },
  {
   "cell_type": "code",
   "execution_count": 1,
   "metadata": {
    "ExecuteTime": {
     "end_time": "2021-09-29T16:45:15.636360Z",
     "start_time": "2021-09-29T16:45:05.911526Z"
    }
   },
   "outputs": [],
   "source": [
    "import pandas as pd\n",
    "import numpy as np\n",
    "from sklearn.metrics import mean_squared_error, r2_score, mean_absolute_error\n",
    "\n",
    "from fbprophet import Prophet\n",
    "import matplotlib.pyplot as plt\n",
    " \n",
    "%matplotlib inline\n",
    " \n",
    "plt.rcParams['figure.figsize']=(20,10)\n",
    "plt.style.use('ggplot')"
   ]
  },
  {
   "cell_type": "markdown",
   "metadata": {},
   "source": [
    "# Read in the data\n",
    "\n",
    "Read the data in from the retail sales CSV file in the examples folder then set the index to the 'date' column. We are also parsing dates in the data file."
   ]
  },
  {
   "cell_type": "code",
   "execution_count": 2,
   "metadata": {
    "ExecuteTime": {
     "end_time": "2021-09-29T16:45:17.697623Z",
     "start_time": "2021-09-29T16:45:17.662594Z"
    }
   },
   "outputs": [],
   "source": [
    "sales = pd.read_csv('./data/retail_sales.csv', parse_dates = True, low_memory = False)"
   ]
  },
  {
   "cell_type": "code",
   "execution_count": 3,
   "metadata": {
    "ExecuteTime": {
     "end_time": "2021-09-29T16:45:19.104345Z",
     "start_time": "2021-09-29T16:45:19.073748Z"
    }
   },
   "outputs": [
    {
     "data": {
      "text/html": [
       "<div>\n",
       "<style scoped>\n",
       "    .dataframe tbody tr th:only-of-type {\n",
       "        vertical-align: middle;\n",
       "    }\n",
       "\n",
       "    .dataframe tbody tr th {\n",
       "        vertical-align: top;\n",
       "    }\n",
       "\n",
       "    .dataframe thead th {\n",
       "        text-align: right;\n",
       "    }\n",
       "</style>\n",
       "<table border=\"1\" class=\"dataframe\">\n",
       "  <thead>\n",
       "    <tr style=\"text-align: right;\">\n",
       "      <th></th>\n",
       "      <th>date</th>\n",
       "      <th>sales</th>\n",
       "    </tr>\n",
       "  </thead>\n",
       "  <tbody>\n",
       "    <tr>\n",
       "      <th>0</th>\n",
       "      <td>2009-10-01</td>\n",
       "      <td>338630</td>\n",
       "    </tr>\n",
       "    <tr>\n",
       "      <th>1</th>\n",
       "      <td>2009-11-01</td>\n",
       "      <td>339386</td>\n",
       "    </tr>\n",
       "    <tr>\n",
       "      <th>2</th>\n",
       "      <td>2009-12-01</td>\n",
       "      <td>400264</td>\n",
       "    </tr>\n",
       "    <tr>\n",
       "      <th>3</th>\n",
       "      <td>2010-01-01</td>\n",
       "      <td>314640</td>\n",
       "    </tr>\n",
       "    <tr>\n",
       "      <th>4</th>\n",
       "      <td>2010-02-01</td>\n",
       "      <td>311022</td>\n",
       "    </tr>\n",
       "  </tbody>\n",
       "</table>\n",
       "</div>"
      ],
      "text/plain": [
       "         date   sales\n",
       "0  2009-10-01  338630\n",
       "1  2009-11-01  339386\n",
       "2  2009-12-01  400264\n",
       "3  2010-01-01  314640\n",
       "4  2010-02-01  311022"
      ]
     },
     "execution_count": 3,
     "metadata": {},
     "output_type": "execute_result"
    }
   ],
   "source": [
    "sales.head()"
   ]
  },
  {
   "cell_type": "markdown",
   "metadata": {},
   "source": [
    "# Prepare for Prophet\n",
    "\n",
    "For prophet to work, we need to change the names of these columns to 'ds' and 'y', so lets just create a new dataframe and keep our old one handy (you'll see why later). The new dataframe will initially be created with an integer index so we can rename the columns"
   ]
  },
  {
   "cell_type": "code",
   "execution_count": 4,
   "metadata": {
    "ExecuteTime": {
     "end_time": "2021-09-29T16:45:20.610898Z",
     "start_time": "2021-09-29T16:45:20.594934Z"
    }
   },
   "outputs": [
    {
     "data": {
      "text/html": [
       "<div>\n",
       "<style scoped>\n",
       "    .dataframe tbody tr th:only-of-type {\n",
       "        vertical-align: middle;\n",
       "    }\n",
       "\n",
       "    .dataframe tbody tr th {\n",
       "        vertical-align: top;\n",
       "    }\n",
       "\n",
       "    .dataframe thead th {\n",
       "        text-align: right;\n",
       "    }\n",
       "</style>\n",
       "<table border=\"1\" class=\"dataframe\">\n",
       "  <thead>\n",
       "    <tr style=\"text-align: right;\">\n",
       "      <th></th>\n",
       "      <th>ds</th>\n",
       "      <th>y</th>\n",
       "    </tr>\n",
       "  </thead>\n",
       "  <tbody>\n",
       "    <tr>\n",
       "      <th>0</th>\n",
       "      <td>2009-10-01</td>\n",
       "      <td>338630</td>\n",
       "    </tr>\n",
       "    <tr>\n",
       "      <th>1</th>\n",
       "      <td>2009-11-01</td>\n",
       "      <td>339386</td>\n",
       "    </tr>\n",
       "    <tr>\n",
       "      <th>2</th>\n",
       "      <td>2009-12-01</td>\n",
       "      <td>400264</td>\n",
       "    </tr>\n",
       "    <tr>\n",
       "      <th>3</th>\n",
       "      <td>2010-01-01</td>\n",
       "      <td>314640</td>\n",
       "    </tr>\n",
       "    <tr>\n",
       "      <th>4</th>\n",
       "      <td>2010-02-01</td>\n",
       "      <td>311022</td>\n",
       "    </tr>\n",
       "  </tbody>\n",
       "</table>\n",
       "</div>"
      ],
      "text/plain": [
       "           ds       y\n",
       "0  2009-10-01  338630\n",
       "1  2009-11-01  339386\n",
       "2  2009-12-01  400264\n",
       "3  2010-01-01  314640\n",
       "4  2010-02-01  311022"
      ]
     },
     "execution_count": 4,
     "metadata": {},
     "output_type": "execute_result"
    }
   ],
   "source": [
    "sales_df = sales.rename(columns={'date':'ds', 'sales':'y'})\n",
    "sales_df.head()"
   ]
  },
  {
   "cell_type": "markdown",
   "metadata": {},
   "source": [
    "Now's a good time to take a look at your data.  Plot the data using pandas' ```plot``` function"
   ]
  },
  {
   "cell_type": "code",
   "execution_count": 5,
   "metadata": {
    "ExecuteTime": {
     "end_time": "2021-09-29T16:45:22.825330Z",
     "start_time": "2021-09-29T16:45:22.634800Z"
    }
   },
   "outputs": [
    {
     "data": {
      "image/png": "[encoded data removed]",
      "text/plain": [
       "<Figure size 432x288 with 1 Axes>"
      ]
     },
     "metadata": {
      "needs_background": "light"
     },
     "output_type": "display_data"
    }
   ],
   "source": [
    "sales_df.set_index('ds').y.plot();"
   ]
  },
  {
   "cell_type": "markdown",
   "metadata": {},
   "source": [
    "When working with time-series data, it's good to look at the data to determine if trends exist, whether it is stationary, has any outliers and/or any other anamolies. Facebook prophet's example uses the log-transform as a way to remove some of these anomolies but it isn't the absolute 'best' way to do this...but given that its the example and a simple data series, we'll follow their lead for now.  Taking the log of a number is easily reversible to be able to see your original data. \n",
    "\n",
    "To log-transform your data, you can use numpy's log() function"
   ]
  },
  {
   "cell_type": "code",
   "execution_count": 6,
   "metadata": {
    "ExecuteTime": {
     "end_time": "2021-09-29T16:45:24.126974Z",
     "start_time": "2021-09-29T16:45:24.122312Z"
    }
   },
   "outputs": [],
   "source": [
    "sales_df['y'] = np.log(sales_df['y'])"
   ]
  },
  {
   "cell_type": "code",
   "execution_count": 7,
   "metadata": {
    "ExecuteTime": {
     "end_time": "2021-09-29T16:45:24.736282Z",
     "start_time": "2021-09-29T16:45:24.726863Z"
    }
   },
   "outputs": [
    {
     "data": {
      "text/html": [
       "<div>\n",
       "<style scoped>\n",
       "    .dataframe tbody tr th:only-of-type {\n",
       "        vertical-align: middle;\n",
       "    }\n",
       "\n",
       "    .dataframe tbody tr th {\n",
       "        vertical-align: top;\n",
       "    }\n",
       "\n",
       "    .dataframe thead th {\n",
       "        text-align: right;\n",
       "    }\n",
       "</style>\n",
       "<table border=\"1\" class=\"dataframe\">\n",
       "  <thead>\n",
       "    <tr style=\"text-align: right;\">\n",
       "      <th></th>\n",
       "      <th>ds</th>\n",
       "      <th>y</th>\n",
       "    </tr>\n",
       "  </thead>\n",
       "  <tbody>\n",
       "    <tr>\n",
       "      <th>67</th>\n",
       "      <td>2015-05-01</td>\n",
       "      <td>13.044650</td>\n",
       "    </tr>\n",
       "    <tr>\n",
       "      <th>68</th>\n",
       "      <td>2015-06-01</td>\n",
       "      <td>13.013060</td>\n",
       "    </tr>\n",
       "    <tr>\n",
       "      <th>69</th>\n",
       "      <td>2015-07-01</td>\n",
       "      <td>13.033991</td>\n",
       "    </tr>\n",
       "    <tr>\n",
       "      <th>70</th>\n",
       "      <td>2015-08-01</td>\n",
       "      <td>13.030993</td>\n",
       "    </tr>\n",
       "    <tr>\n",
       "      <th>71</th>\n",
       "      <td>2015-09-01</td>\n",
       "      <td>12.973671</td>\n",
       "    </tr>\n",
       "  </tbody>\n",
       "</table>\n",
       "</div>"
      ],
      "text/plain": [
       "            ds          y\n",
       "67  2015-05-01  13.044650\n",
       "68  2015-06-01  13.013060\n",
       "69  2015-07-01  13.033991\n",
       "70  2015-08-01  13.030993\n",
       "71  2015-09-01  12.973671"
      ]
     },
     "execution_count": 7,
     "metadata": {},
     "output_type": "execute_result"
    }
   ],
   "source": [
    "sales_df.tail()"
   ]
  },
  {
   "cell_type": "code",
   "execution_count": 8,
   "metadata": {
    "ExecuteTime": {
     "end_time": "2021-09-29T16:45:25.529966Z",
     "start_time": "2021-09-29T16:45:25.388813Z"
    }
   },
   "outputs": [
    {
     "data": {
      "image/png": "[encoded data removed]",
      "text/plain": [
       "<Figure size 432x288 with 1 Axes>"
      ]
     },
     "metadata": {
      "needs_background": "light"
     },
     "output_type": "display_data"
    }
   ],
   "source": [
    "sales_df.set_index('ds').y.plot();"
   ]
  },
  {
   "cell_type": "markdown",
   "metadata": {},
   "source": [
    "As you can see in the above chart, the plot looks the same as the first one but just at a different scale."
   ]
  },
  {
   "cell_type": "markdown",
   "metadata": {},
   "source": [
    "# Running Prophet\n",
    "\n",
    "Now, let's set prophet up to begin modeling our data.\n",
    "\n",
    "Note: Since we are using monthly data, you'll see a message from Prophet saying ```Disabling weekly seasonality. Run prophet with weekly_seasonality=True to override this.```  This is OK since we are working with monthly data but you can disable it by using ```weekly_seasonality=True``` in the instantiation of Prophet."
   ]
  },
  {
   "cell_type": "code",
   "execution_count": 9,
   "metadata": {
    "ExecuteTime": {
     "end_time": "2021-09-29T16:45:31.132150Z",
     "start_time": "2021-09-29T16:45:27.386233Z"
    }
   },
   "outputs": [
    {
     "name": "stderr",
     "output_type": "stream",
     "text": [
      "INFO:fbprophet:Disabling weekly seasonality. Run prophet with weekly_seasonality=True to override this.\n",
      "INFO:fbprophet:Disabling daily seasonality. Run prophet with daily_seasonality=True to override this.\n"
     ]
    },
    {
     "data": {
      "text/plain": [
       "<fbprophet.forecaster.Prophet at 0x7ff12f7913c8>"
      ]
     },
     "execution_count": 9,
     "metadata": {},
     "output_type": "execute_result"
    }
   ],
   "source": [
    "model = Prophet()\n",
    "model.fit(sales_df)"
   ]
  },
  {
   "cell_type": "markdown",
   "metadata": {},
   "source": [
    "Forecasting is fairly useless unless you can look into the future, so we need to add some future dates to our dataframe. For this example, I want to forecast 2 years into the future, so I'll built a future dataframe with 24 periods since we are working with monthly data. Note the ```freq='m'``` inclusion to ensure we are adding 24 months of data.\n",
    "\n",
    "This can be done with the following code:\n"
   ]
  },
  {
   "cell_type": "code",
   "execution_count": 10,
   "metadata": {
    "ExecuteTime": {
     "end_time": "2021-09-29T16:45:31.179457Z",
     "start_time": "2021-09-29T16:45:31.135343Z"
    }
   },
   "outputs": [
    {
     "data": {
      "text/html": [
       "<div>\n",
       "<style scoped>\n",
       "    .dataframe tbody tr th:only-of-type {\n",
       "        vertical-align: middle;\n",
       "    }\n",
       "\n",
       "    .dataframe tbody tr th {\n",
       "        vertical-align: top;\n",
       "    }\n",
       "\n",
       "    .dataframe thead th {\n",
       "        text-align: right;\n",
       "    }\n",
       "</style>\n",
       "<table border=\"1\" class=\"dataframe\">\n",
       "  <thead>\n",
       "    <tr style=\"text-align: right;\">\n",
       "      <th></th>\n",
       "      <th>ds</th>\n",
       "    </tr>\n",
       "  </thead>\n",
       "  <tbody>\n",
       "    <tr>\n",
       "      <th>91</th>\n",
       "      <td>2017-04-30</td>\n",
       "    </tr>\n",
       "    <tr>\n",
       "      <th>92</th>\n",
       "      <td>2017-05-31</td>\n",
       "    </tr>\n",
       "    <tr>\n",
       "      <th>93</th>\n",
       "      <td>2017-06-30</td>\n",
       "    </tr>\n",
       "    <tr>\n",
       "      <th>94</th>\n",
       "      <td>2017-07-31</td>\n",
       "    </tr>\n",
       "    <tr>\n",
       "      <th>95</th>\n",
       "      <td>2017-08-31</td>\n",
       "    </tr>\n",
       "  </tbody>\n",
       "</table>\n",
       "</div>"
      ],
      "text/plain": [
       "           ds\n",
       "91 2017-04-30\n",
       "92 2017-05-31\n",
       "93 2017-06-30\n",
       "94 2017-07-31\n",
       "95 2017-08-31"
      ]
     },
     "execution_count": 10,
     "metadata": {},
     "output_type": "execute_result"
    }
   ],
   "source": [
    "future = model.make_future_dataframe(periods=24, freq = 'm')\n",
    "future.tail()"
   ]
  },
  {
   "cell_type": "markdown",
   "metadata": {},
   "source": [
    "To forecast this future data, we need to run it through Prophet's model."
   ]
  },
  {
   "cell_type": "code",
   "execution_count": 11,
   "metadata": {
    "ExecuteTime": {
     "end_time": "2021-09-29T16:45:34.702284Z",
     "start_time": "2021-09-29T16:45:32.899314Z"
    }
   },
   "outputs": [],
   "source": [
    "forecast = model.predict(future)"
   ]
  },
  {
   "cell_type": "markdown",
   "metadata": {},
   "source": [
    "The resulting forecast dataframe contains quite a bit of data, but we really only care about a few columns.  First, let's look at the full dataframe:"
   ]
  },
  {
   "cell_type": "code",
   "execution_count": 12,
   "metadata": {
    "ExecuteTime": {
     "end_time": "2021-09-29T16:45:34.722097Z",
     "start_time": "2021-09-29T16:45:34.705849Z"
    }
   },
   "outputs": [
    {
     "data": {
      "text/html": [
       "<div>\n",
       "<style scoped>\n",
       "    .dataframe tbody tr th:only-of-type {\n",
       "        vertical-align: middle;\n",
       "    }\n",
       "\n",
       "    .dataframe tbody tr th {\n",
       "        vertical-align: top;\n",
       "    }\n",
       "\n",
       "    .dataframe thead th {\n",
       "        text-align: right;\n",
       "    }\n",
       "</style>\n",
       "<table border=\"1\" class=\"dataframe\">\n",
       "  <thead>\n",
       "    <tr style=\"text-align: right;\">\n",
       "      <th></th>\n",
       "      <th>91</th>\n",
       "      <th>92</th>\n",
       "      <th>93</th>\n",
       "      <th>94</th>\n",
       "      <th>95</th>\n",
       "    </tr>\n",
       "  </thead>\n",
       "  <tbody>\n",
       "    <tr>\n",
       "      <th>ds</th>\n",
       "      <td>2017-04-30 00:00:00</td>\n",
       "      <td>2017-05-31 00:00:00</td>\n",
       "      <td>2017-06-30 00:00:00</td>\n",
       "      <td>2017-07-31 00:00:00</td>\n",
       "      <td>2017-08-31 00:00:00</td>\n",
       "    </tr>\n",
       "    <tr>\n",
       "      <th>trend</th>\n",
       "      <td>13.041237</td>\n",
       "      <td>13.042942</td>\n",
       "      <td>13.044592</td>\n",
       "      <td>13.046298</td>\n",
       "      <td>13.048003</td>\n",
       "    </tr>\n",
       "    <tr>\n",
       "      <th>yhat_lower</th>\n",
       "      <td>12.876383</td>\n",
       "      <td>12.859315</td>\n",
       "      <td>12.85969</td>\n",
       "      <td>12.822261</td>\n",
       "      <td>12.779101</td>\n",
       "    </tr>\n",
       "    <tr>\n",
       "      <th>yhat_upper</th>\n",
       "      <td>13.267445</td>\n",
       "      <td>13.27802</td>\n",
       "      <td>13.315402</td>\n",
       "      <td>13.311711</td>\n",
       "      <td>13.306746</td>\n",
       "    </tr>\n",
       "    <tr>\n",
       "      <th>trend_lower</th>\n",
       "      <td>12.858853</td>\n",
       "      <td>12.845102</td>\n",
       "      <td>12.828596</td>\n",
       "      <td>12.814686</td>\n",
       "      <td>12.798097</td>\n",
       "    </tr>\n",
       "    <tr>\n",
       "      <th>trend_upper</th>\n",
       "      <td>13.24762</td>\n",
       "      <td>13.264691</td>\n",
       "      <td>13.283536</td>\n",
       "      <td>13.298447</td>\n",
       "      <td>13.319208</td>\n",
       "    </tr>\n",
       "    <tr>\n",
       "      <th>additive_terms</th>\n",
       "      <td>0.018364</td>\n",
       "      <td>0.012932</td>\n",
       "      <td>0.031733</td>\n",
       "      <td>0.009755</td>\n",
       "      <td>-0.020633</td>\n",
       "    </tr>\n",
       "    <tr>\n",
       "      <th>additive_terms_lower</th>\n",
       "      <td>0.018364</td>\n",
       "      <td>0.012932</td>\n",
       "      <td>0.031733</td>\n",
       "      <td>0.009755</td>\n",
       "      <td>-0.020633</td>\n",
       "    </tr>\n",
       "    <tr>\n",
       "      <th>additive_terms_upper</th>\n",
       "      <td>0.018364</td>\n",
       "      <td>0.012932</td>\n",
       "      <td>0.031733</td>\n",
       "      <td>0.009755</td>\n",
       "      <td>-0.020633</td>\n",
       "    </tr>\n",
       "    <tr>\n",
       "      <th>yearly</th>\n",
       "      <td>0.018364</td>\n",
       "      <td>0.012932</td>\n",
       "      <td>0.031733</td>\n",
       "      <td>0.009755</td>\n",
       "      <td>-0.020633</td>\n",
       "    </tr>\n",
       "    <tr>\n",
       "      <th>yearly_lower</th>\n",
       "      <td>0.018364</td>\n",
       "      <td>0.012932</td>\n",
       "      <td>0.031733</td>\n",
       "      <td>0.009755</td>\n",
       "      <td>-0.020633</td>\n",
       "    </tr>\n",
       "    <tr>\n",
       "      <th>yearly_upper</th>\n",
       "      <td>0.018364</td>\n",
       "      <td>0.012932</td>\n",
       "      <td>0.031733</td>\n",
       "      <td>0.009755</td>\n",
       "      <td>-0.020633</td>\n",
       "    </tr>\n",
       "    <tr>\n",
       "      <th>multiplicative_terms</th>\n",
       "      <td>0.0</td>\n",
       "      <td>0.0</td>\n",
       "      <td>0.0</td>\n",
       "      <td>0.0</td>\n",
       "      <td>0.0</td>\n",
       "    </tr>\n",
       "    <tr>\n",
       "      <th>multiplicative_terms_lower</th>\n",
       "      <td>0.0</td>\n",
       "      <td>0.0</td>\n",
       "      <td>0.0</td>\n",
       "      <td>0.0</td>\n",
       "      <td>0.0</td>\n",
       "    </tr>\n",
       "    <tr>\n",
       "      <th>multiplicative_terms_upper</th>\n",
       "      <td>0.0</td>\n",
       "      <td>0.0</td>\n",
       "      <td>0.0</td>\n",
       "      <td>0.0</td>\n",
       "      <td>0.0</td>\n",
       "    </tr>\n",
       "    <tr>\n",
       "      <th>yhat</th>\n",
       "      <td>13.059601</td>\n",
       "      <td>13.055874</td>\n",
       "      <td>13.076325</td>\n",
       "      <td>13.056053</td>\n",
       "      <td>13.02737</td>\n",
       "    </tr>\n",
       "  </tbody>\n",
       "</table>\n",
       "</div>"
      ],
      "text/plain": [
       "                                             91                   92  \\\n",
       "ds                          2017-04-30 00:00:00  2017-05-31 00:00:00   \n",
       "trend                                 13.041237            13.042942   \n",
       "yhat_lower                            12.876383            12.859315   \n",
       "yhat_upper                            13.267445             13.27802   \n",
       "trend_lower                           12.858853            12.845102   \n",
       "trend_upper                            13.24762            13.264691   \n",
       "additive_terms                         0.018364             0.012932   \n",
       "additive_terms_lower                   0.018364             0.012932   \n",
       "additive_terms_upper                   0.018364             0.012932   \n",
       "yearly                                 0.018364             0.012932   \n",
       "yearly_lower                           0.018364             0.012932   \n",
       "yearly_upper                           0.018364             0.012932   \n",
       "multiplicative_terms                        0.0                  0.0   \n",
       "multiplicative_terms_lower                  0.0                  0.0   \n",
       "multiplicative_terms_upper                  0.0                  0.0   \n",
       "yhat                                  13.059601            13.055874   \n",
       "\n",
       "                                             93                   94  \\\n",
       "ds                          2017-06-30 00:00:00  2017-07-31 00:00:00   \n",
       "trend                                 13.044592            13.046298   \n",
       "yhat_lower                             12.85969            12.822261   \n",
       "yhat_upper                            13.315402            13.311711   \n",
       "trend_lower                           12.828596            12.814686   \n",
       "trend_upper                           13.283536            13.298447   \n",
       "additive_terms                         0.031733             0.009755   \n",
       "additive_terms_lower                   0.031733             0.009755   \n",
       "additive_terms_upper                   0.031733             0.009755   \n",
       "yearly                                 0.031733             0.009755   \n",
       "yearly_lower                           0.031733             0.009755   \n",
       "yearly_upper                           0.031733             0.009755   \n",
       "multiplicative_terms                        0.0                  0.0   \n",
       "multiplicative_terms_lower                  0.0                  0.0   \n",
       "multiplicative_terms_upper                  0.0                  0.0   \n",
       "yhat                                  13.076325            13.056053   \n",
       "\n",
       "                                             95  \n",
       "ds                          2017-08-31 00:00:00  \n",
       "trend                                 13.048003  \n",
       "yhat_lower                            12.779101  \n",
       "yhat_upper                            13.306746  \n",
       "trend_lower                           12.798097  \n",
       "trend_upper                           13.319208  \n",
       "additive_terms                        -0.020633  \n",
       "additive_terms_lower                  -0.020633  \n",
       "additive_terms_upper                  -0.020633  \n",
       "yearly                                -0.020633  \n",
       "yearly_lower                          -0.020633  \n",
       "yearly_upper                          -0.020633  \n",
       "multiplicative_terms                        0.0  \n",
       "multiplicative_terms_lower                  0.0  \n",
       "multiplicative_terms_upper                  0.0  \n",
       "yhat                                   13.02737  "
      ]
     },
     "execution_count": 12,
     "metadata": {},
     "output_type": "execute_result"
    }
   ],
   "source": [
    "forecast.tail().T"
   ]
  },
  {
   "cell_type": "markdown",
   "metadata": {},
   "source": [
    "We really only want to look at yhat, yhat_lower and yhat_upper, so we can do that with:"
   ]
  },
  {
   "cell_type": "code",
   "execution_count": 13,
   "metadata": {
    "ExecuteTime": {
     "end_time": "2021-09-29T16:45:36.602335Z",
     "start_time": "2021-09-29T16:45:36.590250Z"
    }
   },
   "outputs": [
    {
     "data": {
      "text/html": [
       "<div>\n",
       "<style scoped>\n",
       "    .dataframe tbody tr th:only-of-type {\n",
       "        vertical-align: middle;\n",
       "    }\n",
       "\n",
       "    .dataframe tbody tr th {\n",
       "        vertical-align: top;\n",
       "    }\n",
       "\n",
       "    .dataframe thead th {\n",
       "        text-align: right;\n",
       "    }\n",
       "</style>\n",
       "<table border=\"1\" class=\"dataframe\">\n",
       "  <thead>\n",
       "    <tr style=\"text-align: right;\">\n",
       "      <th></th>\n",
       "      <th>ds</th>\n",
       "      <th>yhat</th>\n",
       "      <th>yhat_lower</th>\n",
       "      <th>yhat_upper</th>\n",
       "    </tr>\n",
       "  </thead>\n",
       "  <tbody>\n",
       "    <tr>\n",
       "      <th>91</th>\n",
       "      <td>2017-04-30</td>\n",
       "      <td>13.059601</td>\n",
       "      <td>12.876383</td>\n",
       "      <td>13.267445</td>\n",
       "    </tr>\n",
       "    <tr>\n",
       "      <th>92</th>\n",
       "      <td>2017-05-31</td>\n",
       "      <td>13.055874</td>\n",
       "      <td>12.859315</td>\n",
       "      <td>13.278020</td>\n",
       "    </tr>\n",
       "    <tr>\n",
       "      <th>93</th>\n",
       "      <td>2017-06-30</td>\n",
       "      <td>13.076325</td>\n",
       "      <td>12.859690</td>\n",
       "      <td>13.315402</td>\n",
       "    </tr>\n",
       "    <tr>\n",
       "      <th>94</th>\n",
       "      <td>2017-07-31</td>\n",
       "      <td>13.056053</td>\n",
       "      <td>12.822261</td>\n",
       "      <td>13.311711</td>\n",
       "    </tr>\n",
       "    <tr>\n",
       "      <th>95</th>\n",
       "      <td>2017-08-31</td>\n",
       "      <td>13.027370</td>\n",
       "      <td>12.779101</td>\n",
       "      <td>13.306746</td>\n",
       "    </tr>\n",
       "  </tbody>\n",
       "</table>\n",
       "</div>"
      ],
      "text/plain": [
       "           ds       yhat  yhat_lower  yhat_upper\n",
       "91 2017-04-30  13.059601   12.876383   13.267445\n",
       "92 2017-05-31  13.055874   12.859315   13.278020\n",
       "93 2017-06-30  13.076325   12.859690   13.315402\n",
       "94 2017-07-31  13.056053   12.822261   13.311711\n",
       "95 2017-08-31  13.027370   12.779101   13.306746"
      ]
     },
     "execution_count": 13,
     "metadata": {},
     "output_type": "execute_result"
    }
   ],
   "source": [
    "forecast[['ds', 'yhat', 'yhat_lower', 'yhat_upper']].tail()"
   ]
  },
  {
   "cell_type": "markdown",
   "metadata": {},
   "source": [
    "# Plotting Prophet results\n",
    "\n",
    "Prophet has a plotting mechanism called ```plot```.  This plot functionality draws the original data (black dots), the model (blue line) and the error of the forecast (shaded blue area)."
   ]
  },
  {
   "cell_type": "code",
   "execution_count": 14,
   "metadata": {
    "ExecuteTime": {
     "end_time": "2021-09-29T16:45:39.484701Z",
     "start_time": "2021-09-29T16:45:39.213927Z"
    }
   },
   "outputs": [
    {
     "name": "stderr",
     "output_type": "stream",
     "text": [
      "/Users/bar/dev/miniconda/envs/ga/lib/python3.7/site-packages/matplotlib/cbook/__init__.py:1377: FutureWarning: Support for multi-dimensional indexing (e.g. `obj[:, None]`) is deprecated and will be removed in a future version.  Convert to a numpy array before indexing instead.\n",
      "  x[:, None]\n",
      "/Users/bar/dev/miniconda/envs/ga/lib/python3.7/site-packages/matplotlib/axes/_base.py:239: FutureWarning: Support for multi-dimensional indexing (e.g. `obj[:, None]`) is deprecated and will be removed in a future version.  Convert to a numpy array before indexing instead.\n",
      "  y = y[:, np.newaxis]\n"
     ]
    },
    {
     "data": {
      "image/png": "[encoded data removed]",
      "text/plain": [
       "<Figure size 720x432 with 1 Axes>"
      ]
     },
     "metadata": {},
     "output_type": "display_data"
    }
   ],
   "source": [
    "model.plot(forecast);"
   ]
  },
  {
   "cell_type": "markdown",
   "metadata": {},
   "source": [
    "## Evaluating Prophet\n",
    "The shaded blue area is the error of the forecast. But we can only eyeball it. Let's look at the R-squared (amount of variance) and Mean Squared Error. "
   ]
  },
  {
   "cell_type": "code",
   "execution_count": 15,
   "metadata": {
    "ExecuteTime": {
     "end_time": "2021-09-29T16:45:45.767267Z",
     "start_time": "2021-09-29T16:45:45.736666Z"
    }
   },
   "outputs": [
    {
     "name": "stdout",
     "output_type": "stream",
     "text": [
      "<class 'pandas.core.frame.DataFrame'>\n",
      "RangeIndex: 96 entries, 0 to 95\n",
      "Data columns (total 16 columns):\n",
      " #   Column                      Non-Null Count  Dtype         \n",
      "---  ------                      --------------  -----         \n",
      " 0   ds                          96 non-null     datetime64[ns]\n",
      " 1   trend                       96 non-null     float64       \n",
      " 2   yhat_lower                  96 non-null     float64       \n",
      " 3   yhat_upper                  96 non-null     float64       \n",
      " 4   trend_lower                 96 non-null     float64       \n",
      " 5   trend_upper                 96 non-null     float64       \n",
      " 6   additive_terms              96 non-null     float64       \n",
      " 7   additive_terms_lower        96 non-null     float64       \n",
      " 8   additive_terms_upper        96 non-null     float64       \n",
      " 9   yearly                      96 non-null     float64       \n",
      " 10  yearly_lower                96 non-null     float64       \n",
      " 11  yearly_upper                96 non-null     float64       \n",
      " 12  multiplicative_terms        96 non-null     float64       \n",
      " 13  multiplicative_terms_lower  96 non-null     float64       \n",
      " 14  multiplicative_terms_upper  96 non-null     float64       \n",
      " 15  yhat                        96 non-null     float64       \n",
      "dtypes: datetime64[ns](1), float64(15)\n",
      "memory usage: 12.1 KB\n"
     ]
    }
   ],
   "source": [
    "forecast.info()"
   ]
  },
  {
   "cell_type": "code",
   "execution_count": 16,
   "metadata": {
    "ExecuteTime": {
     "end_time": "2021-09-29T16:45:46.394680Z",
     "start_time": "2021-09-29T16:45:46.392363Z"
    }
   },
   "outputs": [],
   "source": [
    "#To do this, we have to get the y-hat and original y's from the data\n",
    "#metric_df = forecast.set_index('ds')[['yhat']].join(sales_df.y).reset_index()\n",
    "#metric_df.head()"
   ]
  },
  {
   "cell_type": "code",
   "execution_count": 17,
   "metadata": {
    "ExecuteTime": {
     "end_time": "2021-09-29T16:45:47.137184Z",
     "start_time": "2021-09-29T16:45:47.124900Z"
    },
    "scrolled": false
   },
   "outputs": [
    {
     "data": {
      "text/html": [
       "<div>\n",
       "<style scoped>\n",
       "    .dataframe tbody tr th:only-of-type {\n",
       "        vertical-align: middle;\n",
       "    }\n",
       "\n",
       "    .dataframe tbody tr th {\n",
       "        vertical-align: top;\n",
       "    }\n",
       "\n",
       "    .dataframe thead th {\n",
       "        text-align: right;\n",
       "    }\n",
       "</style>\n",
       "<table border=\"1\" class=\"dataframe\">\n",
       "  <thead>\n",
       "    <tr style=\"text-align: right;\">\n",
       "      <th></th>\n",
       "      <th>ds</th>\n",
       "      <th>yhat</th>\n",
       "      <th>y</th>\n",
       "    </tr>\n",
       "  </thead>\n",
       "  <tbody>\n",
       "    <tr>\n",
       "      <th>0</th>\n",
       "      <td>2009-10-01</td>\n",
       "      <td>12.728916</td>\n",
       "      <td>12.732663</td>\n",
       "    </tr>\n",
       "    <tr>\n",
       "      <th>1</th>\n",
       "      <td>2009-11-01</td>\n",
       "      <td>12.749435</td>\n",
       "      <td>12.734893</td>\n",
       "    </tr>\n",
       "    <tr>\n",
       "      <th>2</th>\n",
       "      <td>2009-12-01</td>\n",
       "      <td>12.887444</td>\n",
       "      <td>12.899880</td>\n",
       "    </tr>\n",
       "    <tr>\n",
       "      <th>3</th>\n",
       "      <td>2010-01-01</td>\n",
       "      <td>12.662469</td>\n",
       "      <td>12.659184</td>\n",
       "    </tr>\n",
       "    <tr>\n",
       "      <th>4</th>\n",
       "      <td>2010-02-01</td>\n",
       "      <td>12.655825</td>\n",
       "      <td>12.647619</td>\n",
       "    </tr>\n",
       "  </tbody>\n",
       "</table>\n",
       "</div>"
      ],
      "text/plain": [
       "          ds       yhat          y\n",
       "0 2009-10-01  12.728916  12.732663\n",
       "1 2009-11-01  12.749435  12.734893\n",
       "2 2009-12-01  12.887444  12.899880\n",
       "3 2010-01-01  12.662469  12.659184\n",
       "4 2010-02-01  12.655825  12.647619"
      ]
     },
     "execution_count": 17,
     "metadata": {},
     "output_type": "execute_result"
    }
   ],
   "source": [
    "metric_df = pd.concat([forecast[['ds','yhat']],sales_df['y']], axis=1)\n",
    "metric_df.head()"
   ]
  },
  {
   "cell_type": "markdown",
   "metadata": {},
   "source": [
    "Remember we added 24 months of forecast so we don't have an actual `y` data for those months."
   ]
  },
  {
   "cell_type": "code",
   "execution_count": 18,
   "metadata": {
    "ExecuteTime": {
     "end_time": "2021-09-29T16:45:48.534676Z",
     "start_time": "2021-09-29T16:45:48.525342Z"
    }
   },
   "outputs": [
    {
     "data": {
      "text/html": [
       "<div>\n",
       "<style scoped>\n",
       "    .dataframe tbody tr th:only-of-type {\n",
       "        vertical-align: middle;\n",
       "    }\n",
       "\n",
       "    .dataframe tbody tr th {\n",
       "        vertical-align: top;\n",
       "    }\n",
       "\n",
       "    .dataframe thead th {\n",
       "        text-align: right;\n",
       "    }\n",
       "</style>\n",
       "<table border=\"1\" class=\"dataframe\">\n",
       "  <thead>\n",
       "    <tr style=\"text-align: right;\">\n",
       "      <th></th>\n",
       "      <th>ds</th>\n",
       "      <th>yhat</th>\n",
       "      <th>y</th>\n",
       "    </tr>\n",
       "  </thead>\n",
       "  <tbody>\n",
       "    <tr>\n",
       "      <th>91</th>\n",
       "      <td>2017-04-30</td>\n",
       "      <td>13.059601</td>\n",
       "      <td>NaN</td>\n",
       "    </tr>\n",
       "    <tr>\n",
       "      <th>92</th>\n",
       "      <td>2017-05-31</td>\n",
       "      <td>13.055874</td>\n",
       "      <td>NaN</td>\n",
       "    </tr>\n",
       "    <tr>\n",
       "      <th>93</th>\n",
       "      <td>2017-06-30</td>\n",
       "      <td>13.076325</td>\n",
       "      <td>NaN</td>\n",
       "    </tr>\n",
       "    <tr>\n",
       "      <th>94</th>\n",
       "      <td>2017-07-31</td>\n",
       "      <td>13.056053</td>\n",
       "      <td>NaN</td>\n",
       "    </tr>\n",
       "    <tr>\n",
       "      <th>95</th>\n",
       "      <td>2017-08-31</td>\n",
       "      <td>13.027370</td>\n",
       "      <td>NaN</td>\n",
       "    </tr>\n",
       "  </tbody>\n",
       "</table>\n",
       "</div>"
      ],
      "text/plain": [
       "           ds       yhat   y\n",
       "91 2017-04-30  13.059601 NaN\n",
       "92 2017-05-31  13.055874 NaN\n",
       "93 2017-06-30  13.076325 NaN\n",
       "94 2017-07-31  13.056053 NaN\n",
       "95 2017-08-31  13.027370 NaN"
      ]
     },
     "execution_count": 18,
     "metadata": {},
     "output_type": "execute_result"
    }
   ],
   "source": [
    "# check the tail, because we added 24 months of forecast.\n",
    "metric_df.tail()"
   ]
  },
  {
   "cell_type": "code",
   "execution_count": 19,
   "metadata": {
    "ExecuteTime": {
     "end_time": "2021-09-29T16:45:49.320617Z",
     "start_time": "2021-09-29T16:45:49.311950Z"
    }
   },
   "outputs": [],
   "source": [
    "# The tail has NaN values, because they're predictions - there was no real Y. Let's drop those for model evaluation.\n",
    "metric_df.dropna(inplace = True)"
   ]
  },
  {
   "cell_type": "code",
   "execution_count": 20,
   "metadata": {
    "ExecuteTime": {
     "end_time": "2021-09-29T16:45:50.090922Z",
     "start_time": "2021-09-29T16:45:50.086268Z"
    }
   },
   "outputs": [],
   "source": [
    "#Let's take a look at the numbers\n",
    "#from sklearn.metrics import mean_squared_error, r2_score, mean_absolute_error"
   ]
  },
  {
   "cell_type": "code",
   "execution_count": 21,
   "metadata": {
    "ExecuteTime": {
     "end_time": "2021-09-29T16:45:50.490141Z",
     "start_time": "2021-09-29T16:45:50.479361Z"
    },
    "scrolled": true
   },
   "outputs": [
    {
     "name": "stdout",
     "output_type": "stream",
     "text": [
      "<class 'pandas.core.frame.DataFrame'>\n",
      "Int64Index: 72 entries, 0 to 71\n",
      "Data columns (total 3 columns):\n",
      " #   Column  Non-Null Count  Dtype         \n",
      "---  ------  --------------  -----         \n",
      " 0   ds      72 non-null     datetime64[ns]\n",
      " 1   yhat    72 non-null     float64       \n",
      " 2   y       72 non-null     float64       \n",
      "dtypes: datetime64[ns](1), float64(2)\n",
      "memory usage: 2.2 KB\n"
     ]
    }
   ],
   "source": [
    "metric_df.info()"
   ]
  },
  {
   "cell_type": "markdown",
   "metadata": {},
   "source": [
    "Generate some metrics on our model."
   ]
  },
  {
   "cell_type": "code",
   "execution_count": 22,
   "metadata": {
    "ExecuteTime": {
     "end_time": "2021-09-29T16:45:51.684618Z",
     "start_time": "2021-09-29T16:45:51.676388Z"
    }
   },
   "outputs": [
    {
     "name": "stdout",
     "output_type": "stream",
     "text": [
      "R-squared:  0.9937030580772022\n",
      "Mean Squared Error:  6.305748859364187e-05\n",
      "RMSE:  0.007940874548413536\n"
     ]
    }
   ],
   "source": [
    "print(\"R-squared: \", r2_score(metric_df['y'], metric_df['yhat']))\n",
    "print(\"Mean Squared Error: \", mean_squared_error(metric_df['y'], metric_df['yhat']))\n",
    "print(\"RMSE: \", np.sqrt(mean_squared_error(metric_df['y'], metric_df['yhat'])))"
   ]
  },
  {
   "cell_type": "markdown",
   "metadata": {},
   "source": [
    "An R2 value of .99 is phenomenal... and too good to be true. Our massive MSE confirms any suspcion tha thte model is overfit and won't be very predictive in the future. Part of the problem in this example is that the its monthly, and there aren't enough data points to build a robust model. "
   ]
  },
  {
   "cell_type": "markdown",
   "metadata": {
    "collapsed": true
   },
   "source": [
    "## Accounting for Seasonality and Trends\n",
    "\n",
    "We can see from this data that there is a spike in the same month each year. While spike could be due to many different reasons, let's assume its because there's a major promotion that this company runs every year at that time, which is in December for this dataset.\n",
    "\n",
    "When patterns repeat over *known, fixed periods* of time within a data set, we call this **seasonality**. A seasonal pattern exists when a series is influenced by factors related to the cyclic nature of time — i.e., time of month, quarter, year, etc. Seasonality is of a fixed and known period, otherwise it is not truly seasonality. Additionally, it must be either attributed to another factor or counted as a set of anomalous events in the data."
   ]
  },
  {
   "cell_type": "markdown",
   "metadata": {},
   "source": [
    "### Prophet calls them \"holidays\"\n",
    "\n",
    "Because we know this promotion occurs every december, we want to use this knowledge to help prophet better forecast those months, so we'll use prohpet's ```holiday``` construct (explained here https://facebookincubator.github.io/prophet/docs/holiday_effects.html).\n",
    "\n",
    "The holiday object is a pandas dataframe with the holiday and date of the holiday. For this example, the construct would look like this:\n",
    "\n",
    "```promotions = pd.DataFrame({\n",
    "  'holiday': 'december_promotion',\n",
    "  'ds': pd.to_datetime(['2009-12-01', '2010-12-01', '2011-12-01', '2012-12-01',\n",
    "                        '2013-12-01', '2014-12-01', '2015-12-01']),\n",
    "  'lower_window': 0,\n",
    "  'upper_window': 0,\n",
    "})```\n",
    "\n",
    "This ```promotions``` dataframe consisists of promotion dates for Dec in 2009 through 2015,  The ```lower_window``` and ```upper_window``` values are set to zero to indicate that we don't want prophet to consider any other months than the ones listed."
   ]
  },
  {
   "cell_type": "code",
   "execution_count": 23,
   "metadata": {
    "ExecuteTime": {
     "end_time": "2021-09-29T16:46:14.142388Z",
     "start_time": "2021-09-29T16:46:14.137325Z"
    }
   },
   "outputs": [],
   "source": [
    "# Build the promotions dataframe from above here - be sure you understand the syntax and logic!\n",
    "promotions = pd.DataFrame({\n",
    "  'holiday': 'december_promotion',\n",
    "  'ds': pd.to_datetime(['2009-12-01', '2010-12-01', '2011-12-01', '2012-12-01',\n",
    "                        '2013-12-01', '2014-12-01', '2015-12-01']),\n",
    "  'lower_window': 0,\n",
    "  'upper_window': 0,\n",
    "})"
   ]
  },
  {
   "cell_type": "code",
   "execution_count": 24,
   "metadata": {
    "ExecuteTime": {
     "end_time": "2021-09-29T16:46:14.683607Z",
     "start_time": "2021-09-29T16:46:14.673688Z"
    }
   },
   "outputs": [
    {
     "data": {
      "text/html": [
       "<div>\n",
       "<style scoped>\n",
       "    .dataframe tbody tr th:only-of-type {\n",
       "        vertical-align: middle;\n",
       "    }\n",
       "\n",
       "    .dataframe tbody tr th {\n",
       "        vertical-align: top;\n",
       "    }\n",
       "\n",
       "    .dataframe thead th {\n",
       "        text-align: right;\n",
       "    }\n",
       "</style>\n",
       "<table border=\"1\" class=\"dataframe\">\n",
       "  <thead>\n",
       "    <tr style=\"text-align: right;\">\n",
       "      <th></th>\n",
       "      <th>ds</th>\n",
       "      <th>y</th>\n",
       "    </tr>\n",
       "  </thead>\n",
       "  <tbody>\n",
       "    <tr>\n",
       "      <th>0</th>\n",
       "      <td>2009-10-01</td>\n",
       "      <td>2.544171</td>\n",
       "    </tr>\n",
       "    <tr>\n",
       "      <th>1</th>\n",
       "      <td>2009-11-01</td>\n",
       "      <td>2.544346</td>\n",
       "    </tr>\n",
       "    <tr>\n",
       "      <th>2</th>\n",
       "      <td>2009-12-01</td>\n",
       "      <td>2.557218</td>\n",
       "    </tr>\n",
       "    <tr>\n",
       "      <th>3</th>\n",
       "      <td>2010-01-01</td>\n",
       "      <td>2.538383</td>\n",
       "    </tr>\n",
       "    <tr>\n",
       "      <th>4</th>\n",
       "      <td>2010-02-01</td>\n",
       "      <td>2.537469</td>\n",
       "    </tr>\n",
       "  </tbody>\n",
       "</table>\n",
       "</div>"
      ],
      "text/plain": [
       "           ds         y\n",
       "0  2009-10-01  2.544171\n",
       "1  2009-11-01  2.544346\n",
       "2  2009-12-01  2.557218\n",
       "3  2010-01-01  2.538383\n",
       "4  2010-02-01  2.537469"
      ]
     },
     "execution_count": 24,
     "metadata": {},
     "output_type": "execute_result"
    }
   ],
   "source": [
    "# Remember, we need to log-transform for prophet\n",
    "sales_df['y'] = np.log(sales_df['y'])\n",
    "sales_df.head()"
   ]
  },
  {
   "cell_type": "code",
   "execution_count": 25,
   "metadata": {
    "ExecuteTime": {
     "end_time": "2021-09-29T16:46:15.840662Z",
     "start_time": "2021-09-29T16:46:15.231088Z"
    }
   },
   "outputs": [
    {
     "name": "stderr",
     "output_type": "stream",
     "text": [
      "INFO:fbprophet:Disabling weekly seasonality. Run prophet with weekly_seasonality=True to override this.\n",
      "INFO:fbprophet:Disabling daily seasonality. Run prophet with daily_seasonality=True to override this.\n"
     ]
    },
    {
     "data": {
      "text/plain": [
       "<fbprophet.forecaster.Prophet at 0x7ff1300aeb38>"
      ]
     },
     "execution_count": 25,
     "metadata": {},
     "output_type": "execute_result"
    }
   ],
   "source": [
    "#Now let's set up prophet to model our data using holidays - Instantiate and fit the model\n",
    "model = Prophet(holidays=promotions)\n",
    "model.fit(sales_df)"
   ]
  },
  {
   "cell_type": "code",
   "execution_count": 26,
   "metadata": {
    "ExecuteTime": {
     "end_time": "2021-09-29T16:46:17.667948Z",
     "start_time": "2021-09-29T16:46:15.845847Z"
    }
   },
   "outputs": [
    {
     "data": {
      "text/html": [
       "<div>\n",
       "<style scoped>\n",
       "    .dataframe tbody tr th:only-of-type {\n",
       "        vertical-align: middle;\n",
       "    }\n",
       "\n",
       "    .dataframe tbody tr th {\n",
       "        vertical-align: top;\n",
       "    }\n",
       "\n",
       "    .dataframe thead th {\n",
       "        text-align: right;\n",
       "    }\n",
       "</style>\n",
       "<table border=\"1\" class=\"dataframe\">\n",
       "  <thead>\n",
       "    <tr style=\"text-align: right;\">\n",
       "      <th></th>\n",
       "      <th>0</th>\n",
       "      <th>1</th>\n",
       "      <th>2</th>\n",
       "      <th>3</th>\n",
       "      <th>4</th>\n",
       "    </tr>\n",
       "  </thead>\n",
       "  <tbody>\n",
       "    <tr>\n",
       "      <th>ds</th>\n",
       "      <td>2009-10-01 00:00:00</td>\n",
       "      <td>2009-11-01 00:00:00</td>\n",
       "      <td>2009-12-01 00:00:00</td>\n",
       "      <td>2010-01-01 00:00:00</td>\n",
       "      <td>2010-02-01 00:00:00</td>\n",
       "    </tr>\n",
       "    <tr>\n",
       "      <th>trend</th>\n",
       "      <td>2.659732</td>\n",
       "      <td>2.661457</td>\n",
       "      <td>2.663127</td>\n",
       "      <td>2.664307</td>\n",
       "      <td>2.665487</td>\n",
       "    </tr>\n",
       "    <tr>\n",
       "      <th>yhat_lower</th>\n",
       "      <td>2.543061</td>\n",
       "      <td>2.544787</td>\n",
       "      <td>2.555833</td>\n",
       "      <td>2.53808</td>\n",
       "      <td>2.537513</td>\n",
       "    </tr>\n",
       "    <tr>\n",
       "      <th>yhat_upper</th>\n",
       "      <td>2.544318</td>\n",
       "      <td>2.546002</td>\n",
       "      <td>2.557109</td>\n",
       "      <td>2.539356</td>\n",
       "      <td>2.538817</td>\n",
       "    </tr>\n",
       "    <tr>\n",
       "      <th>trend_lower</th>\n",
       "      <td>2.659732</td>\n",
       "      <td>2.661457</td>\n",
       "      <td>2.663127</td>\n",
       "      <td>2.664307</td>\n",
       "      <td>2.665487</td>\n",
       "    </tr>\n",
       "    <tr>\n",
       "      <th>trend_upper</th>\n",
       "      <td>2.659732</td>\n",
       "      <td>2.661457</td>\n",
       "      <td>2.663127</td>\n",
       "      <td>2.664307</td>\n",
       "      <td>2.665487</td>\n",
       "    </tr>\n",
       "    <tr>\n",
       "      <th>additive_terms</th>\n",
       "      <td>-0.116002</td>\n",
       "      <td>-0.116075</td>\n",
       "      <td>-0.106668</td>\n",
       "      <td>-0.125597</td>\n",
       "      <td>-0.127351</td>\n",
       "    </tr>\n",
       "    <tr>\n",
       "      <th>additive_terms_lower</th>\n",
       "      <td>-0.116002</td>\n",
       "      <td>-0.116075</td>\n",
       "      <td>-0.106668</td>\n",
       "      <td>-0.125597</td>\n",
       "      <td>-0.127351</td>\n",
       "    </tr>\n",
       "    <tr>\n",
       "      <th>additive_terms_upper</th>\n",
       "      <td>-0.116002</td>\n",
       "      <td>-0.116075</td>\n",
       "      <td>-0.106668</td>\n",
       "      <td>-0.125597</td>\n",
       "      <td>-0.127351</td>\n",
       "    </tr>\n",
       "    <tr>\n",
       "      <th>december_promotion</th>\n",
       "      <td>0.0</td>\n",
       "      <td>0.0</td>\n",
       "      <td>-1.405551</td>\n",
       "      <td>0.0</td>\n",
       "      <td>0.0</td>\n",
       "    </tr>\n",
       "    <tr>\n",
       "      <th>december_promotion_lower</th>\n",
       "      <td>0.0</td>\n",
       "      <td>0.0</td>\n",
       "      <td>-1.405551</td>\n",
       "      <td>0.0</td>\n",
       "      <td>0.0</td>\n",
       "    </tr>\n",
       "    <tr>\n",
       "      <th>december_promotion_upper</th>\n",
       "      <td>0.0</td>\n",
       "      <td>0.0</td>\n",
       "      <td>-1.405551</td>\n",
       "      <td>0.0</td>\n",
       "      <td>0.0</td>\n",
       "    </tr>\n",
       "    <tr>\n",
       "      <th>holidays</th>\n",
       "      <td>0.0</td>\n",
       "      <td>0.0</td>\n",
       "      <td>-1.405551</td>\n",
       "      <td>0.0</td>\n",
       "      <td>0.0</td>\n",
       "    </tr>\n",
       "    <tr>\n",
       "      <th>holidays_lower</th>\n",
       "      <td>0.0</td>\n",
       "      <td>0.0</td>\n",
       "      <td>-1.405551</td>\n",
       "      <td>0.0</td>\n",
       "      <td>0.0</td>\n",
       "    </tr>\n",
       "    <tr>\n",
       "      <th>holidays_upper</th>\n",
       "      <td>0.0</td>\n",
       "      <td>0.0</td>\n",
       "      <td>-1.405551</td>\n",
       "      <td>0.0</td>\n",
       "      <td>0.0</td>\n",
       "    </tr>\n",
       "    <tr>\n",
       "      <th>yearly</th>\n",
       "      <td>-0.116002</td>\n",
       "      <td>-0.116075</td>\n",
       "      <td>1.298883</td>\n",
       "      <td>-0.125597</td>\n",
       "      <td>-0.127351</td>\n",
       "    </tr>\n",
       "    <tr>\n",
       "      <th>yearly_lower</th>\n",
       "      <td>-0.116002</td>\n",
       "      <td>-0.116075</td>\n",
       "      <td>1.298883</td>\n",
       "      <td>-0.125597</td>\n",
       "      <td>-0.127351</td>\n",
       "    </tr>\n",
       "    <tr>\n",
       "      <th>yearly_upper</th>\n",
       "      <td>-0.116002</td>\n",
       "      <td>-0.116075</td>\n",
       "      <td>1.298883</td>\n",
       "      <td>-0.125597</td>\n",
       "      <td>-0.127351</td>\n",
       "    </tr>\n",
       "    <tr>\n",
       "      <th>multiplicative_terms</th>\n",
       "      <td>0.0</td>\n",
       "      <td>0.0</td>\n",
       "      <td>0.0</td>\n",
       "      <td>0.0</td>\n",
       "      <td>0.0</td>\n",
       "    </tr>\n",
       "    <tr>\n",
       "      <th>multiplicative_terms_lower</th>\n",
       "      <td>0.0</td>\n",
       "      <td>0.0</td>\n",
       "      <td>0.0</td>\n",
       "      <td>0.0</td>\n",
       "      <td>0.0</td>\n",
       "    </tr>\n",
       "    <tr>\n",
       "      <th>multiplicative_terms_upper</th>\n",
       "      <td>0.0</td>\n",
       "      <td>0.0</td>\n",
       "      <td>0.0</td>\n",
       "      <td>0.0</td>\n",
       "      <td>0.0</td>\n",
       "    </tr>\n",
       "    <tr>\n",
       "      <th>yhat</th>\n",
       "      <td>2.543729</td>\n",
       "      <td>2.545383</td>\n",
       "      <td>2.556459</td>\n",
       "      <td>2.53871</td>\n",
       "      <td>2.538136</td>\n",
       "    </tr>\n",
       "  </tbody>\n",
       "</table>\n",
       "</div>"
      ],
      "text/plain": [
       "                                              0                    1  \\\n",
       "ds                          2009-10-01 00:00:00  2009-11-01 00:00:00   \n",
       "trend                                  2.659732             2.661457   \n",
       "yhat_lower                             2.543061             2.544787   \n",
       "yhat_upper                             2.544318             2.546002   \n",
       "trend_lower                            2.659732             2.661457   \n",
       "trend_upper                            2.659732             2.661457   \n",
       "additive_terms                        -0.116002            -0.116075   \n",
       "additive_terms_lower                  -0.116002            -0.116075   \n",
       "additive_terms_upper                  -0.116002            -0.116075   \n",
       "december_promotion                          0.0                  0.0   \n",
       "december_promotion_lower                    0.0                  0.0   \n",
       "december_promotion_upper                    0.0                  0.0   \n",
       "holidays                                    0.0                  0.0   \n",
       "holidays_lower                              0.0                  0.0   \n",
       "holidays_upper                              0.0                  0.0   \n",
       "yearly                                -0.116002            -0.116075   \n",
       "yearly_lower                          -0.116002            -0.116075   \n",
       "yearly_upper                          -0.116002            -0.116075   \n",
       "multiplicative_terms                        0.0                  0.0   \n",
       "multiplicative_terms_lower                  0.0                  0.0   \n",
       "multiplicative_terms_upper                  0.0                  0.0   \n",
       "yhat                                   2.543729             2.545383   \n",
       "\n",
       "                                              2                    3  \\\n",
       "ds                          2009-12-01 00:00:00  2010-01-01 00:00:00   \n",
       "trend                                  2.663127             2.664307   \n",
       "yhat_lower                             2.555833              2.53808   \n",
       "yhat_upper                             2.557109             2.539356   \n",
       "trend_lower                            2.663127             2.664307   \n",
       "trend_upper                            2.663127             2.664307   \n",
       "additive_terms                        -0.106668            -0.125597   \n",
       "additive_terms_lower                  -0.106668            -0.125597   \n",
       "additive_terms_upper                  -0.106668            -0.125597   \n",
       "december_promotion                    -1.405551                  0.0   \n",
       "december_promotion_lower              -1.405551                  0.0   \n",
       "december_promotion_upper              -1.405551                  0.0   \n",
       "holidays                              -1.405551                  0.0   \n",
       "holidays_lower                        -1.405551                  0.0   \n",
       "holidays_upper                        -1.405551                  0.0   \n",
       "yearly                                 1.298883            -0.125597   \n",
       "yearly_lower                           1.298883            -0.125597   \n",
       "yearly_upper                           1.298883            -0.125597   \n",
       "multiplicative_terms                        0.0                  0.0   \n",
       "multiplicative_terms_lower                  0.0                  0.0   \n",
       "multiplicative_terms_upper                  0.0                  0.0   \n",
       "yhat                                   2.556459              2.53871   \n",
       "\n",
       "                                              4  \n",
       "ds                          2010-02-01 00:00:00  \n",
       "trend                                  2.665487  \n",
       "yhat_lower                             2.537513  \n",
       "yhat_upper                             2.538817  \n",
       "trend_lower                            2.665487  \n",
       "trend_upper                            2.665487  \n",
       "additive_terms                        -0.127351  \n",
       "additive_terms_lower                  -0.127351  \n",
       "additive_terms_upper                  -0.127351  \n",
       "december_promotion                          0.0  \n",
       "december_promotion_lower                    0.0  \n",
       "december_promotion_upper                    0.0  \n",
       "holidays                                    0.0  \n",
       "holidays_lower                              0.0  \n",
       "holidays_upper                              0.0  \n",
       "yearly                                -0.127351  \n",
       "yearly_lower                          -0.127351  \n",
       "yearly_upper                          -0.127351  \n",
       "multiplicative_terms                        0.0  \n",
       "multiplicative_terms_lower                  0.0  \n",
       "multiplicative_terms_upper                  0.0  \n",
       "yhat                                   2.538136  "
      ]
     },
     "execution_count": 26,
     "metadata": {},
     "output_type": "execute_result"
    }
   ],
   "source": [
    "#We've instantiated the model, so now we need to build our future dates to forecast into!\n",
    "future = model.make_future_dataframe(periods=24, freq = 'm')\n",
    "future.tail()\n",
    "\n",
    "#... and then run our future data through prophet's model\n",
    "forecast = model.predict(future)\n",
    "\n",
    "forecast.head().T"
   ]
  },
  {
   "cell_type": "code",
   "execution_count": 27,
   "metadata": {
    "ExecuteTime": {
     "end_time": "2021-09-29T16:46:17.701479Z",
     "start_time": "2021-09-29T16:46:17.678306Z"
    }
   },
   "outputs": [
    {
     "data": {
      "text/html": [
       "<div>\n",
       "<style scoped>\n",
       "    .dataframe tbody tr th:only-of-type {\n",
       "        vertical-align: middle;\n",
       "    }\n",
       "\n",
       "    .dataframe tbody tr th {\n",
       "        vertical-align: top;\n",
       "    }\n",
       "\n",
       "    .dataframe thead th {\n",
       "        text-align: right;\n",
       "    }\n",
       "</style>\n",
       "<table border=\"1\" class=\"dataframe\">\n",
       "  <thead>\n",
       "    <tr style=\"text-align: right;\">\n",
       "      <th></th>\n",
       "      <th>ds</th>\n",
       "      <th>yhat</th>\n",
       "      <th>yhat_lower</th>\n",
       "      <th>yhat_upper</th>\n",
       "    </tr>\n",
       "  </thead>\n",
       "  <tbody>\n",
       "    <tr>\n",
       "      <th>91</th>\n",
       "      <td>2017-04-30</td>\n",
       "      <td>2.571317</td>\n",
       "      <td>2.524898</td>\n",
       "      <td>2.616189</td>\n",
       "    </tr>\n",
       "    <tr>\n",
       "      <th>92</th>\n",
       "      <td>2017-05-31</td>\n",
       "      <td>2.570551</td>\n",
       "      <td>2.520700</td>\n",
       "      <td>2.618760</td>\n",
       "    </tr>\n",
       "    <tr>\n",
       "      <th>93</th>\n",
       "      <td>2017-06-30</td>\n",
       "      <td>2.571212</td>\n",
       "      <td>2.517743</td>\n",
       "      <td>2.622838</td>\n",
       "    </tr>\n",
       "    <tr>\n",
       "      <th>94</th>\n",
       "      <td>2017-07-31</td>\n",
       "      <td>2.568653</td>\n",
       "      <td>2.511675</td>\n",
       "      <td>2.623764</td>\n",
       "    </tr>\n",
       "    <tr>\n",
       "      <th>95</th>\n",
       "      <td>2017-08-31</td>\n",
       "      <td>2.565972</td>\n",
       "      <td>2.505326</td>\n",
       "      <td>2.624712</td>\n",
       "    </tr>\n",
       "  </tbody>\n",
       "</table>\n",
       "</div>"
      ],
      "text/plain": [
       "           ds      yhat  yhat_lower  yhat_upper\n",
       "91 2017-04-30  2.571317    2.524898    2.616189\n",
       "92 2017-05-31  2.570551    2.520700    2.618760\n",
       "93 2017-06-30  2.571212    2.517743    2.622838\n",
       "94 2017-07-31  2.568653    2.511675    2.623764\n",
       "95 2017-08-31  2.565972    2.505326    2.624712"
      ]
     },
     "execution_count": 27,
     "metadata": {},
     "output_type": "execute_result"
    }
   ],
   "source": [
    "#while our new df contains a bit of data, we only care about a few features...\n",
    "forecast[['ds', 'yhat', 'yhat_lower', 'yhat_upper']].tail()"
   ]
  },
  {
   "cell_type": "markdown",
   "metadata": {},
   "source": [
    "## Visualizing with holidays!\n",
    "Same as above at first blush!"
   ]
  },
  {
   "cell_type": "code",
   "execution_count": 28,
   "metadata": {
    "ExecuteTime": {
     "end_time": "2021-09-29T16:46:18.141181Z",
     "start_time": "2021-09-29T16:46:17.710276Z"
    }
   },
   "outputs": [
    {
     "name": "stderr",
     "output_type": "stream",
     "text": [
      "/Users/bar/dev/miniconda/envs/ga/lib/python3.7/site-packages/matplotlib/cbook/__init__.py:1377: FutureWarning: Support for multi-dimensional indexing (e.g. `obj[:, None]`) is deprecated and will be removed in a future version.  Convert to a numpy array before indexing instead.\n",
      "  x[:, None]\n",
      "/Users/bar/dev/miniconda/envs/ga/lib/python3.7/site-packages/matplotlib/axes/_base.py:239: FutureWarning: Support for multi-dimensional indexing (e.g. `obj[:, None]`) is deprecated and will be removed in a future version.  Convert to a numpy array before indexing instead.\n",
      "  y = y[:, np.newaxis]\n"
     ]
    },
    {
     "data": {
      "image/png": "[encoded data removed]",
      "text/plain": [
       "<Figure size 720x432 with 1 Axes>"
      ]
     },
     "metadata": {},
     "output_type": "display_data"
    }
   ],
   "source": [
    "#use Prophet's .plot() method to visualize your timeseries.\n",
    "model.plot(forecast);"
   ]
  },
  {
   "cell_type": "markdown",
   "metadata": {},
   "source": [
    "Prophet also allows you to examine the ```components``` of a timeseries using the ```.plot_components()``` method"
   ]
  },
  {
   "cell_type": "code",
   "execution_count": 29,
   "metadata": {
    "ExecuteTime": {
     "end_time": "2021-09-29T16:46:19.244635Z",
     "start_time": "2021-09-29T16:46:18.582172Z"
    }
   },
   "outputs": [
    {
     "name": "stderr",
     "output_type": "stream",
     "text": [
      "/Users/bar/dev/miniconda/envs/ga/lib/python3.7/site-packages/matplotlib/cbook/__init__.py:1377: FutureWarning: Support for multi-dimensional indexing (e.g. `obj[:, None]`) is deprecated and will be removed in a future version.  Convert to a numpy array before indexing instead.\n",
      "  x[:, None]\n",
      "/Users/bar/dev/miniconda/envs/ga/lib/python3.7/site-packages/matplotlib/axes/_base.py:239: FutureWarning: Support for multi-dimensional indexing (e.g. `obj[:, None]`) is deprecated and will be removed in a future version.  Convert to a numpy array before indexing instead.\n",
      "  y = y[:, np.newaxis]\n"
     ]
    },
    {
     "data": {
      "image/png": "[encoded data removed]",
      "text/plain": [
       "<Figure size 648x648 with 3 Axes>"
      ]
     },
     "metadata": {},
     "output_type": "display_data"
    }
   ],
   "source": [
    "model.plot_components(forecast);\n"
   ]
  },
  {
   "cell_type": "markdown",
   "metadata": {},
   "source": [
    "## Why holidays matter\n",
    "Let's re-run our prophet model without holidays, for comparison"
   ]
  },
  {
   "cell_type": "code",
   "execution_count": 30,
   "metadata": {
    "ExecuteTime": {
     "end_time": "2021-09-29T16:46:20.453408Z",
     "start_time": "2021-09-29T16:46:19.750888Z"
    }
   },
   "outputs": [
    {
     "name": "stderr",
     "output_type": "stream",
     "text": [
      "INFO:fbprophet:Disabling weekly seasonality. Run prophet with weekly_seasonality=True to override this.\n",
      "INFO:fbprophet:Disabling daily seasonality. Run prophet with daily_seasonality=True to override this.\n"
     ]
    },
    {
     "data": {
      "text/plain": [
       "<fbprophet.forecaster.Prophet at 0x7ff1300ae278>"
      ]
     },
     "execution_count": 30,
     "metadata": {},
     "output_type": "execute_result"
    }
   ],
   "source": [
    "model_no_holiday = Prophet()\n",
    "model_no_holiday.fit(sales_df)"
   ]
  },
  {
   "cell_type": "code",
   "execution_count": 31,
   "metadata": {
    "ExecuteTime": {
     "end_time": "2021-09-29T16:46:20.477657Z",
     "start_time": "2021-09-29T16:46:20.458691Z"
    }
   },
   "outputs": [
    {
     "data": {
      "text/html": [
       "<div>\n",
       "<style scoped>\n",
       "    .dataframe tbody tr th:only-of-type {\n",
       "        vertical-align: middle;\n",
       "    }\n",
       "\n",
       "    .dataframe tbody tr th {\n",
       "        vertical-align: top;\n",
       "    }\n",
       "\n",
       "    .dataframe thead th {\n",
       "        text-align: right;\n",
       "    }\n",
       "</style>\n",
       "<table border=\"1\" class=\"dataframe\">\n",
       "  <thead>\n",
       "    <tr style=\"text-align: right;\">\n",
       "      <th></th>\n",
       "      <th>ds</th>\n",
       "    </tr>\n",
       "  </thead>\n",
       "  <tbody>\n",
       "    <tr>\n",
       "      <th>91</th>\n",
       "      <td>2017-04-30</td>\n",
       "    </tr>\n",
       "    <tr>\n",
       "      <th>92</th>\n",
       "      <td>2017-05-31</td>\n",
       "    </tr>\n",
       "    <tr>\n",
       "      <th>93</th>\n",
       "      <td>2017-06-30</td>\n",
       "    </tr>\n",
       "    <tr>\n",
       "      <th>94</th>\n",
       "      <td>2017-07-31</td>\n",
       "    </tr>\n",
       "    <tr>\n",
       "      <th>95</th>\n",
       "      <td>2017-08-31</td>\n",
       "    </tr>\n",
       "  </tbody>\n",
       "</table>\n",
       "</div>"
      ],
      "text/plain": [
       "           ds\n",
       "91 2017-04-30\n",
       "92 2017-05-31\n",
       "93 2017-06-30\n",
       "94 2017-07-31\n",
       "95 2017-08-31"
      ]
     },
     "execution_count": 31,
     "metadata": {},
     "output_type": "execute_result"
    }
   ],
   "source": [
    "future_no_holiday = model_no_holiday.make_future_dataframe(periods=24, freq = 'm')\n",
    "future_no_holiday.tail()"
   ]
  },
  {
   "cell_type": "code",
   "execution_count": 32,
   "metadata": {
    "ExecuteTime": {
     "end_time": "2021-09-29T16:46:22.823759Z",
     "start_time": "2021-09-29T16:46:20.757211Z"
    }
   },
   "outputs": [],
   "source": [
    "forecast_no_holiday = model_no_holiday.predict(future)"
   ]
  },
  {
   "cell_type": "markdown",
   "metadata": {},
   "source": [
    "There probably won't be a massive difference, given the small amount of data with which we're working on this example. But with greater data comes greater variance..."
   ]
  },
  {
   "cell_type": "code",
   "execution_count": 33,
   "metadata": {
    "ExecuteTime": {
     "end_time": "2021-09-29T16:46:22.841840Z",
     "start_time": "2021-09-29T16:46:22.826342Z"
    }
   },
   "outputs": [],
   "source": [
    "#join the dataframes\n",
    "forecast.set_index('ds', inplace=True)\n",
    "forecast_no_holiday.set_index('ds', inplace=True)\n",
    "compared_df = forecast.join(forecast_no_holiday, rsuffix=\"_no_holiday\")"
   ]
  },
  {
   "cell_type": "code",
   "execution_count": 34,
   "metadata": {
    "ExecuteTime": {
     "end_time": "2021-09-29T16:46:22.852679Z",
     "start_time": "2021-09-29T16:46:22.844966Z"
    }
   },
   "outputs": [],
   "source": [
    "#we're only interested in the predictions, and let's move back to the original scale\n",
    "compared_df= np.exp(compared_df[['yhat', 'yhat_no_holiday']])"
   ]
  },
  {
   "cell_type": "code",
   "execution_count": 35,
   "metadata": {
    "ExecuteTime": {
     "end_time": "2021-09-29T16:46:22.902812Z",
     "start_time": "2021-09-29T16:46:22.857067Z"
    }
   },
   "outputs": [
    {
     "name": "stdout",
     "output_type": "stream",
     "text": [
      "difference:  6.4 %\n"
     ]
    }
   ],
   "source": [
    "# Create a feature that is the percentage difference between holiday vs. none\n",
    "compared_df['diff_per'] = 100 * (compared_df['yhat'] - compared_df['yhat_no_holiday']) / compared_df['yhat_no_holiday']\n",
    "print(\"difference: \", round(compared_df.diff_per.mean(), 2), \"%\")"
   ]
  },
  {
   "cell_type": "markdown",
   "metadata": {},
   "source": [
    "This is a 6% difference which can be a huge amount of money left on the table if your business is a global enterprise!"
   ]
  },
  {
   "cell_type": "markdown",
   "metadata": {},
   "source": [
    "# Prophet for Market prediction - lab time!\n",
    "Prophet can detect changepoints in timeseries data, and we can often use it to our advantage. Let's grab FRED economic data and see how this goes."
   ]
  },
  {
   "cell_type": "code",
   "execution_count": 36,
   "metadata": {
    "ExecuteTime": {
     "end_time": "2021-09-29T16:46:23.879161Z",
     "start_time": "2021-09-29T16:46:23.844827Z"
    }
   },
   "outputs": [
    {
     "ename": "SyntaxError",
     "evalue": "invalid syntax (<ipython-input-36-8d573405f333>, line 2)",
     "output_type": "error",
     "traceback": [
      "\u001b[0;36m  File \u001b[0;32m\"<ipython-input-36-8d573405f333>\"\u001b[0;36m, line \u001b[0;32m2\u001b[0m\n\u001b[0;31m    market_df =\u001b[0m\n\u001b[0m                ^\u001b[0m\n\u001b[0;31mSyntaxError\u001b[0m\u001b[0;31m:\u001b[0m invalid syntax\n"
     ]
    }
   ],
   "source": [
    "#Download 01/2009 - current S&P500 data at https://fred.stlouisfed.org/series/SP500 and import it into pandas\n",
    "market_df = "
   ]
  },
  {
   "cell_type": "code",
   "execution_count": null,
   "metadata": {},
   "outputs": [],
   "source": [
    "#Now prepare your data for prophet. Hint: prophet needs \"ds\" and a log-transformed \"y\" to work\n"
   ]
  },
  {
   "cell_type": "code",
   "execution_count": null,
   "metadata": {},
   "outputs": [],
   "source": [
    "#Instantiate the model, and fit our data\n",
    "model = Prophet()\n"
   ]
  },
  {
   "cell_type": "code",
   "execution_count": null,
   "metadata": {},
   "outputs": [],
   "source": [
    "#build the future dataframe, forecasting for 1 year from now. THen create a forecast by passing the future into model.predict()\n",
    "future = model.make_future_dataframe(periods = 365)\n",
    "forecast = "
   ]
  },
  {
   "cell_type": "code",
   "execution_count": null,
   "metadata": {},
   "outputs": [],
   "source": [
    "#now plot it!\n"
   ]
  },
  {
   "cell_type": "markdown",
   "metadata": {},
   "source": [
    "It's hard to see what's going on here, in part because we have such a condensed visual. Let's look at the last 2 years of forecast vs. actual without looking at the future - we are just interested ing etting a visual of theerror between actual vs. forecast"
   ]
  },
  {
   "cell_type": "code",
   "execution_count": null,
   "metadata": {},
   "outputs": [],
   "source": [
    "#Start by setting the index of the forecast df to the ds, and joining it to the marekt_df\n",
    "two_years = \n",
    "\n",
    "#now set two_years equal to the last 800 data points\n",
    "two_years = two_years[['SP500', 'yhat', 'yhat_upper', 'yhat_lower' ]].dropna().tail(800)"
   ]
  },
  {
   "cell_type": "code",
   "execution_count": null,
   "metadata": {},
   "outputs": [],
   "source": [
    "#now trasnform the predictions back to the original scale of the data\n",
    "two_years['yhat']=np.exp(two_years.yhat)\n",
    "two_years['yhat_upper']=np.exp(two_years.yhat_upper)\n",
    "two_years['yhat_lower']=np.exp(two_years.yhat_lower)"
   ]
  },
  {
   "cell_type": "code",
   "execution_count": null,
   "metadata": {},
   "outputs": [],
   "source": [
    "#let's visualize the relationship between SP500 and yhat (our prediction) using pandas .plot()\n"
   ]
  },
  {
   "cell_type": "markdown",
   "metadata": {},
   "source": [
    "Our forecast does great at trending, but doesn't do well at catching the volatility of the market. This would be very good for 'riding trends', but not so good for catching peaks and dips. \n",
    "\n",
    "We can see this in the numbers as well"
   ]
  },
  {
   "cell_type": "code",
   "execution_count": null,
   "metadata": {},
   "outputs": [],
   "source": [
    "#calculate the r2\n"
   ]
  },
  {
   "cell_type": "code",
   "execution_count": null,
   "metadata": {},
   "outputs": [],
   "source": [
    "#MAE\n"
   ]
  },
  {
   "cell_type": "code",
   "execution_count": null,
   "metadata": {},
   "outputs": [],
   "source": [
    "#RMSE\n"
   ]
  },
  {
   "cell_type": "markdown",
   "metadata": {},
   "source": [
    "Another way to tlook at the usefulness of this forecast is to plot the upper and lower confidence bands against the actuals. We can do that with a plot that combines yhat_upper and yhat_lower with the rest into a matplotlib subplot. "
   ]
  },
  {
   "cell_type": "code",
   "execution_count": null,
   "metadata": {},
   "outputs": [],
   "source": [
    "fig, ax1 = plt.subplots()\n",
    "ax1.plot(two_years.SP500)\n",
    "ax1.plot(two_years.yhat)\n",
    "ax1.plot(two_years.yhat_upper, color='black',  linestyle=':', alpha=0.5)\n",
    "ax1.plot(two_years.yhat_lower, color='black',  linestyle=':', alpha=0.5)\n",
    "\n",
    "ax1.set_title('Actual S&P 500 (Orange) vs S&P 500 Forecasted Upper & Lower Confidence (Black)')\n",
    "ax1.set_ylabel('Price')\n",
    "ax1.set_xlabel('Date')"
   ]
  },
  {
   "cell_type": "markdown",
   "metadata": {},
   "source": [
    "As we saw above, if you're trying to do shortterm trading then this model is useless. But if you are investing with a timeframe of months to years, this forecast might provide some value. "
   ]
  },
  {
   "cell_type": "code",
   "execution_count": null,
   "metadata": {},
   "outputs": [],
   "source": [
    "#We can also look at this from the full df. Here I build it manually again!\n",
    "fig, ax1 = plt.subplots()\n",
    "ax1.plot(full_df.SP500)\n",
    "ax1.plot(full_df.yhat, color='black', linestyle=':')\n",
    "ax1.fill_between(full_df.index, np.exp(full_df['yhat_upper']), np.exp(full_df['yhat_lower']), alpha=0.5, color='darkgray')\n",
    "ax1.set_title('Actual S&P 500 (Orange) vs S&P 500 Forecasted (Black) with Confidence Bands')\n",
    "ax1.set_ylabel('Price')\n",
    "ax1.set_xlabel('Date')\n",
    "\n",
    "L=ax1.legend() #get the legend\n",
    "L.get_texts()[0].set_text('S&P 500 Actual') #change the legend text for 1st plot\n",
    "L.get_texts()[1].set_text('S&P 5600 Forecasted') #change the legend text for 2nd plot"
   ]
  }
 ],
 "metadata": {
  "kernelspec": {
   "display_name": "Python 3",
   "language": "python",
   "name": "python3"
  },
  "language_info": {
   "codemirror_mode": {
    "name": "ipython",
    "version": 3
   },
   "file_extension": ".py",
   "mimetype": "text/x-python",
   "name": "python",
   "nbconvert_exporter": "python",
   "pygments_lexer": "ipython3",
   "version": "3.7.3"
  },
  "toc": {
   "base_numbering": 1,
   "nav_menu": {},
   "number_sections": true,
   "sideBar": true,
   "skip_h1_title": false,
   "title_cell": "Table of Contents",
   "title_sidebar": "Contents",
   "toc_cell": false,
   "toc_position": {},
   "toc_section_display": true,
   "toc_window_display": false
  }
 },
 "nbformat": 4,
 "nbformat_minor": 2
}
