{
 "cells": [
  {
   "cell_type": "markdown",
   "metadata": {},
   "source": [
    "<img src=\"http://imgur.com/1ZcRyrc.png\" style=\"float: left; margin: 20px; height: 55px\">\n",
    "\n",
    "# Time Series: Forecasting Models"
   ]
  },
  {
   "cell_type": "markdown",
   "metadata": {},
   "source": [
    "### Learning Objectives\n",
    " \n",
    "**After this lesson, you will be able to:**\n",
    "- Define time series analysis and time series forecasting models.\n",
    "- Discuss the unique properties of time series models.\n",
    "- Explore time series forecasting methods."
   ]
  },
  {
   "cell_type": "markdown",
   "metadata": {},
   "source": [
    "### Lesson Guide\n",
    "\n",
    "#### Time Series: Forecasting Models\n",
    "- [Time Series Models](#A)\n",
    "- [Properties of Time Series Forecasting Models](#B)\n",
    "- [Time Series Forecasting Methods](#C)\n",
    "- [Independent Practice](#D)\n",
    "----"
   ]
  },
  {
   "cell_type": "markdown",
   "metadata": {},
   "source": [
    "### Installing StatsModels"
   ]
  },
  {
   "cell_type": "markdown",
   "metadata": {},
   "source": [
    "We will use the StatsModels library to perform time series forecasting. This might already be installed in your Python environment, but it doesn't support the forecasting methods we'll be using in this lesson. So, we'll clone it from its repo and install it using the source code. To follow along with this lesson, complete these installation steps:\n",
    "\n",
    "* In your terminal, use `pip freeze` to see if `statsmodels` is already installed in your environment.\n",
    "* If it is, use `conda remove statsmodels`.\n",
    "* Initialize Git in your terminal using `git init`.\n",
    "* Clone the StatsModels repo by typing `git clone git://github.com/statsmodels/statsmodels.git` in your terminal.\n",
    "* Change to the StatsModels directory with `cd statsmodels`.\n",
    "* Build the set-up file using the`python setup.py build` command.\n",
    "* When that is done, install it using `python setup.py install`.\n",
    "* Exit out of the terminal.\n",
    "* Restart the terminal.\n",
    "* Open Python by typing `python`.\n",
    "* Type `from statsmodels.tsa.api import ExponentialSmoothing` to verify the install. If you don't get any errors, you are all set!"
   ]
  },
  {
   "cell_type": "markdown",
   "metadata": {},
   "source": [
    "<h2><a id=\"A\">Time Series Models</a></h2>"
   ]
  },
  {
   "cell_type": "markdown",
   "metadata": {},
   "source": [
    "**Time series analysis** comprises methods for analyzing time series data in order to extract meaningful statistics and other characteristics of the data. (The analyses we've been doing in previous section qualify as time series analysis).\n",
    "\n",
    "**Time series forecasting** is the use of a model to predict future values based on previously observed values. We will discuss these types of models in this section. \n",
    "\n",
    "- Time series forecasting models predict a future value in a time series. Like other predictive models, we will use prior history to predict the future. Unlike previous models, however, we will use the _outcome_ variables from earlier in time as the _inputs_ for prediction.\n",
    "\n",
    "- As with the modeling you're used to, we will have to evaluate different models to ensure that we have chosen the best one.\n",
    "\n",
    "- So, we will want to evaluate on _test data_ to ensure that our model performs well on unseen data.\n",
    "\n",
    "### What Makes Time Series Data Special?\n",
    "\n",
    "Time series data are time dependent. So, the basic assumption of a linear regression model — that the observations are independent — falls apart. Often, time series data include some sort of trend or may have seasonality."
   ]
  },
  {
   "cell_type": "markdown",
   "metadata": {},
   "source": [
    "<h2><a id = \"B\">Properties of Time Series Forecasting Models</a></h2>"
   ]
  },
  {
   "cell_type": "markdown",
   "metadata": {},
   "source": [
    "### Training and Testing Sets\n",
    "\n",
    "Time series data have a natural temporal ordering, which makes them different from the studies we've seen in other lessons in which there was no natural ordering of observations. \n",
    "\n",
    "Because these data are ordered, we **cannot choose training and testing examples at random.** As we are attempting to predict _a sequence of future values_, we must train on values from earlier (in time) in our data and then test our values at the end of the period."
   ]
  },
  {
   "cell_type": "markdown",
   "metadata": {},
   "source": [
    "### Moving Averages and Autocorrelation\n",
    "\n",
    "In previous sections, we learned about a few statistics for analyzing time series. A **moving average** is the average of *k* surrounding data points in time.\n",
    "\n",
    "We also looked at autocorrelation the compute the relationship of the data with prior values.\n",
    "\n",
    "**Autocorrelation** is how correlated a variable is with itself. Specifically, how related variables from earlier in time are with variables from later in time. Note the need for a mean value:\n",
    "\n",
    "${\\Huge R(k) = \\frac{\\operatorname{E}[(X_{t} - \\mu)(X_{t-k} - \\mu)]}{\\sigma^2}}^*$"
   ]
  },
  {
   "cell_type": "markdown",
   "metadata": {},
   "source": [
    "### Stationarity\n",
    "\n",
    "The criteria for classifying a series as stationary indicate that:\n",
    "\n",
    "* The mean of the series should not be a function of time, but rather should be a constant. The image below has the left-hand graph satisfying this condition, whereas the graph in red has a time-dependent mean.\n",
    "\n",
    "![](assets/Mean_nonstationary.png)\n",
    "\n",
    "* The variance of the series should not be a function of time. This property is known as homoscedasticity. The following graph depicts what is and what is not a stationary series. (Notice the varying spread of distribution in the right-hand graph.)\n",
    "\n",
    "![](assets/Var_nonstationary.png)\n",
    "\n",
    "* The covariance of the `i`th term and the `(i + m)`th term should not be a function of time. In the following graph, you'll notice that the spread becomes closer as time increases. Hence, the covariance is not constant with time for the \"red series.\"\n",
    "\n",
    "![](assets/Cov_nonstationary.png)\n",
    "\n",
    "Why is this important? Many of the time series models work on the assumption that the time series is stationary. We can think of this as: If a time series has a particular behavior over time, there is a high probability that it will act similarly in the future. \n",
    "\n",
    "As always, these assumptions may not apply to raw real-world data. (In fact, they rarely do!) \n",
    "\n",
    "For example, typical stock market performance is not stationary. In this plot of Dow Jones performance since 1986, the mean is clearly increasing over time:\n",
    "\n",
    "![](assets/dow-jones.png)\n",
    "\n",
    "How can we test this for stationarity? One way is by visualizing the data."
   ]
  },
  {
   "cell_type": "markdown",
   "metadata": {},
   "source": [
    "### Testing for Stationarity"
   ]
  },
  {
   "cell_type": "markdown",
   "metadata": {},
   "source": [
    "Import the libraries and data."
   ]
  },
  {
   "cell_type": "code",
   "execution_count": null,
   "metadata": {
    "ExecuteTime": {
     "end_time": "2021-03-15T21:05:13.022439Z",
     "start_time": "2021-03-15T21:05:10.242247Z"
    },
    "scrolled": true
   },
   "outputs": [],
   "source": [
    "import pandas as pd\n",
    "import matplotlib.pyplot as plt\n",
    "%matplotlib inline\n",
    "drones = pd.read_csv('data/gt_drone_racing.csv', header=1)\n",
    "drones.columns = ['week','drone_racing_interest']\n",
    "drones.head()"
   ]
  },
  {
   "cell_type": "code",
   "execution_count": null,
   "metadata": {
    "ExecuteTime": {
     "end_time": "2021-03-15T21:05:26.943643Z",
     "start_time": "2021-03-15T21:05:26.895902Z"
    }
   },
   "outputs": [],
   "source": [
    "drones.info()"
   ]
  },
  {
   "cell_type": "markdown",
   "metadata": {},
   "source": [
    "Change the `week` column to a `datetime` object and make it the index of the DataFrame."
   ]
  },
  {
   "cell_type": "code",
   "execution_count": null,
   "metadata": {
    "ExecuteTime": {
     "end_time": "2021-03-15T21:05:33.325884Z",
     "start_time": "2021-03-15T21:05:33.279692Z"
    }
   },
   "outputs": [],
   "source": [
    "drones['week'] = pd.to_datetime(drones.week)\n",
    "drones.set_index('week', inplace=True)\n",
    "drones.head()"
   ]
  },
  {
   "cell_type": "markdown",
   "metadata": {},
   "source": [
    "Plot the data."
   ]
  },
  {
   "cell_type": "code",
   "execution_count": null,
   "metadata": {
    "ExecuteTime": {
     "end_time": "2021-03-15T21:05:48.240508Z",
     "start_time": "2021-03-15T21:05:46.250666Z"
    }
   },
   "outputs": [],
   "source": [
    "drones.plot();"
   ]
  },
  {
   "cell_type": "markdown",
   "metadata": {},
   "source": [
    "It's clear that there is an overall increasing trend, as well as some seasonal variations. \n",
    "\n",
    "But, if this visual check for stationarity wasn't so clear, we could use the following:\n",
    "* **Plotting rolling statistics**: This is another visual technique, but it can help us see if the moving average or moving variance varies over time. \n",
    "* **Dickey-Fuller test**: This is a statistical test for checking for stationarity. The null hypothesis of this test is that the time series is non-stationary. The Dickey-Fuller test returns a test statistic that is compared to a critical value for different confidence levels. If the test statistic is less than the critical value, we reject the null hypothesis and say that the time series is stationary.  \n",
    "\n",
    "Here's a function for plotting rolling statistics and using the Dickey-Fuller test. We'll use it on our drone data. "
   ]
  },
  {
   "cell_type": "code",
   "execution_count": null,
   "metadata": {
    "ExecuteTime": {
     "end_time": "2021-03-15T21:07:17.348237Z",
     "start_time": "2021-03-15T21:07:15.124803Z"
    }
   },
   "outputs": [],
   "source": [
    "from statsmodels.tsa.stattools import adfuller\n",
    "def test_stationarity(timeseries):\n",
    "    \n",
    "    # Determining rolling statistics:\n",
    "    rolmean = timeseries.rolling(window=12).mean()\n",
    "    rolstd = timeseries.rolling(window=12).std()\n",
    "\n",
    "    # Plotting rolling statistics:\n",
    "    orig = plt.plot(timeseries, color='blue',label='Original')\n",
    "    mean = plt.plot(rolmean, color='red', label='Rolling Mean')\n",
    "    std = plt.plot(rolstd, color='black', label = 'Rolling Std')\n",
    "    plt.legend(loc='best')\n",
    "    plt.title('Rolling Mean & Standard Deviation')\n",
    "    plt.show(block=False)\n",
    "    \n",
    "    # Performing the Dickey-Fuller test:\n",
    "    print('Results of Dickey-Fuller Test:')\n",
    "    dftest = adfuller(timeseries, autolag='AIC')\n",
    "    dfoutput = pd.Series(dftest[0:4], index=['Test Statistic','p-value','#Lags Used','Number of Observations Used'])\n",
    "    for key,value in dftest[4].items():\n",
    "        dfoutput['Critical Value (%s)'%key] = value\n",
    "    print(dfoutput)"
   ]
  },
  {
   "cell_type": "code",
   "execution_count": null,
   "metadata": {
    "ExecuteTime": {
     "end_time": "2021-03-15T21:07:42.764074Z",
     "start_time": "2021-03-15T21:07:42.269649Z"
    }
   },
   "outputs": [],
   "source": [
    "test_stationarity(drones.drone_racing_interest)"
   ]
  },
  {
   "cell_type": "markdown",
   "metadata": {},
   "source": [
    "Although the variation in the standard deviation experiences one jump, the mean is clearly increasing with time. So, this is not a stationary series. Also, the test statistic of the Dickey-Fuller test is way more than the critical values. (Compare the signed values, not the absolute values.)\n",
    "\n",
    "Let's discuss methods for making this time series stationary."
   ]
  },
  {
   "cell_type": "markdown",
   "metadata": {},
   "source": [
    "### Making a Time Series Stationary"
   ]
  },
  {
   "cell_type": "markdown",
   "metadata": {},
   "source": [
    "To make a time series stationary, we first need to understand what makes a it non-stationary. Two things can do this:\n",
    "\n",
    "1) **Trend**: Variation over time. <br>\n",
    "2) **Seasonality**: Variations at specific timeframes. <br>"
   ]
  },
  {
   "cell_type": "markdown",
   "metadata": {},
   "source": [
    "### Detrending"
   ]
  },
  {
   "cell_type": "markdown",
   "metadata": {},
   "source": [
    "We can preprocess our data to achieve stationarity. Two common methods are **detrending** and **differencing**.\n",
    "\n",
    "**Detrending** removes major trends in our data. The simplest way is to fit a line to the trend, then make a new series of the difference between the line and the true series. \n",
    "\n",
    "Below are U.S. housing prices over time that demonstrate an upward trend. This makes the time series non-stationary, as the mean home price is increasing. The line fit through it represents the trend.\n",
    "\n",
    "The bottom figure is the \"detrended\" data, where each data point is transformed by subtracting the value of the trend line at that point. This data now have a fixed mean and may be easier to model. This is similar to mean-scaling our features in earlier models with `StandardScaler`.\n",
    "\n",
    "![](./assets/detrend.gif)"
   ]
  },
  {
   "cell_type": "markdown",
   "metadata": {},
   "source": [
    "#### Example: Detrending"
   ]
  },
  {
   "cell_type": "markdown",
   "metadata": {},
   "source": [
    "Fit a trendline to the data."
   ]
  },
  {
   "cell_type": "code",
   "execution_count": null,
   "metadata": {
    "ExecuteTime": {
     "end_time": "2021-03-15T21:10:19.256269Z",
     "start_time": "2021-03-15T21:10:18.852624Z"
    }
   },
   "outputs": [],
   "source": [
    "import numpy as np\n",
    "import matplotlib.pyplot as plt\n",
    "drones = pd.read_csv('data/gt_drone_racing.csv', header=1)\n",
    "drones.columns = ['week','drone_racing_interest']\n",
    "coefs = np.polyfit(drones.index, drones.drone_racing_interest,1)\n",
    "lineFunction = np.poly1d(coefs)\n",
    "plt.plot(drones.index, drones.drone_racing_interest, drones.index, lineFunction(drones.index))"
   ]
  },
  {
   "cell_type": "markdown",
   "metadata": {},
   "source": [
    "Detrend the time series. In its simplest form, we literally subtract the trendline from the time series."
   ]
  },
  {
   "cell_type": "code",
   "execution_count": null,
   "metadata": {
    "ExecuteTime": {
     "end_time": "2021-03-15T21:10:33.198468Z",
     "start_time": "2021-03-15T21:10:32.922448Z"
    }
   },
   "outputs": [],
   "source": [
    "plt.plot(drones.index, drones.drone_racing_interest - lineFunction(drones.index));"
   ]
  },
  {
   "cell_type": "markdown",
   "metadata": {},
   "source": [
    "There is also a helper function for this."
   ]
  },
  {
   "cell_type": "code",
   "execution_count": null,
   "metadata": {
    "ExecuteTime": {
     "end_time": "2021-03-15T21:11:21.240975Z",
     "start_time": "2021-03-15T21:11:20.910200Z"
    }
   },
   "outputs": [],
   "source": [
    "import scipy.signal\n",
    "ffty = scipy.signal.detrend(drones.drone_racing_interest.values)\n",
    "plt.plot(drones.index, ffty)"
   ]
  },
  {
   "cell_type": "markdown",
   "metadata": {},
   "source": [
    "### Differencing"
   ]
  },
  {
   "cell_type": "markdown",
   "metadata": {},
   "source": [
    "A related method is **differencing**. Instead of predicting the (non-stationary) series, we can predict the difference between two consecutive values. **ARIMA** models incorporate this approach.\n",
    "\n",
    "Recall that we used Pandas' `.diff()` method to find the difference in an earlier section."
   ]
  },
  {
   "cell_type": "markdown",
   "metadata": {},
   "source": [
    "#### Example: Differencing"
   ]
  },
  {
   "cell_type": "code",
   "execution_count": null,
   "metadata": {
    "ExecuteTime": {
     "end_time": "2021-03-15T21:12:23.618321Z",
     "start_time": "2021-03-15T21:12:23.019685Z"
    }
   },
   "outputs": [],
   "source": [
    "drones['change'] = drones.drone_racing_interest.diff(1);\n",
    "drones.plot()"
   ]
  },
  {
   "cell_type": "markdown",
   "metadata": {},
   "source": [
    "<h2><a id=\"C\">Time Series Forecasting Methods</a></h2>"
   ]
  },
  {
   "cell_type": "markdown",
   "metadata": {},
   "source": [
    "### Method 1: Naive Approach"
   ]
  },
  {
   "cell_type": "markdown",
   "metadata": {},
   "source": [
    "Let's look at Walmart's weekly sales data over a two-year period from 2010 to 2012. The data set is separated by store and department, but we'll focus on analyzing one store for simplicity."
   ]
  },
  {
   "cell_type": "markdown",
   "metadata": {},
   "source": [
    "#### Read in the data set and take a look at it."
   ]
  },
  {
   "cell_type": "code",
   "execution_count": null,
   "metadata": {
    "ExecuteTime": {
     "end_time": "2021-03-15T21:27:02.666925Z",
     "start_time": "2021-03-15T21:27:01.263609Z"
    }
   },
   "outputs": [],
   "source": [
    "walmart = pd.read_csv('data/train.csv')\n",
    "walmart.set_index('Date', inplace=True)\n",
    "walmart.head()"
   ]
  },
  {
   "cell_type": "code",
   "execution_count": null,
   "metadata": {
    "ExecuteTime": {
     "end_time": "2021-03-15T21:27:13.118061Z",
     "start_time": "2021-03-15T21:27:13.069782Z"
    }
   },
   "outputs": [],
   "source": [
    "walmart.info()"
   ]
  },
  {
   "cell_type": "markdown",
   "metadata": {},
   "source": [
    "#### Filter the DataFrame to Store 1 sales and aggregate over departments to compute the total sales per store."
   ]
  },
  {
   "cell_type": "code",
   "execution_count": null,
   "metadata": {
    "ExecuteTime": {
     "end_time": "2021-03-15T21:14:57.397660Z",
     "start_time": "2021-03-15T21:14:57.297032Z"
    }
   },
   "outputs": [],
   "source": [
    "store1 = walmart[walmart.Store == 1]\n",
    "store1_sales = pd.DataFrame(store1.Weekly_Sales.groupby(store1.index).sum())\n",
    "store1_sales.reset_index(inplace = True)\n",
    "store1_sales['Date'] = pd.to_datetime(store1_sales['Date'])\n",
    "store1_sales.set_index('Date',inplace = True)"
   ]
  },
  {
   "cell_type": "code",
   "execution_count": null,
   "metadata": {
    "ExecuteTime": {
     "end_time": "2021-03-15T21:27:29.434886Z",
     "start_time": "2021-03-15T21:27:29.411600Z"
    }
   },
   "outputs": [],
   "source": [
    "store1_sales.info()"
   ]
  },
  {
   "cell_type": "code",
   "execution_count": null,
   "metadata": {
    "ExecuteTime": {
     "end_time": "2021-03-15T21:15:00.319314Z",
     "start_time": "2021-03-15T21:14:59.730250Z"
    }
   },
   "outputs": [],
   "source": [
    "store1_sales.plot()"
   ]
  },
  {
   "cell_type": "markdown",
   "metadata": {},
   "source": [
    "If we think sales have been stable from the start, we can simply take the last time period's sales and estimate the same value for the next time period. Such a forecasting technique, which assumes that the next expected point is equal to the last observed point, is called a **naive method**.\n",
    "\n",
    "$$\\hat y_{t+1} = y_t$$"
   ]
  },
  {
   "cell_type": "markdown",
   "metadata": {},
   "source": [
    "We will subset the data to look at the accuracy of each time series forecasting method on the data set. We'll use the first two years (2010–2011) as the \"training\" data and the last year (2012) as the \"testing\" data for the purposes of our demonstration.  "
   ]
  },
  {
   "cell_type": "code",
   "execution_count": null,
   "metadata": {
    "ExecuteTime": {
     "end_time": "2021-03-15T21:16:15.013018Z",
     "start_time": "2021-03-15T21:16:14.928655Z"
    }
   },
   "outputs": [],
   "source": [
    "train = store1_sales['2010': '2011']\n",
    "test = store1_sales['2012']"
   ]
  },
  {
   "cell_type": "markdown",
   "metadata": {},
   "source": [
    "Let's plot the data to take a look at the subsetting."
   ]
  },
  {
   "cell_type": "code",
   "execution_count": null,
   "metadata": {
    "ExecuteTime": {
     "end_time": "2021-03-15T21:17:01.587895Z",
     "start_time": "2021-03-15T21:17:01.030489Z"
    }
   },
   "outputs": [],
   "source": [
    "train.Weekly_Sales.plot(figsize=(15,8), title= 'Weekly Sales', fontsize=14)\n",
    "test.Weekly_Sales.plot(figsize=(15,8), title= 'Weekly Sales', fontsize=14)\n",
    "plt.show()"
   ]
  },
  {
   "cell_type": "markdown",
   "metadata": {},
   "source": [
    "#### Let's see how the well the naive method does when forecasting sales."
   ]
  },
  {
   "cell_type": "code",
   "execution_count": null,
   "metadata": {
    "ExecuteTime": {
     "end_time": "2021-03-15T21:18:12.429942Z",
     "start_time": "2021-03-15T21:18:11.809412Z"
    }
   },
   "outputs": [],
   "source": [
    "dd= np.asarray(train.Weekly_Sales)\n",
    "y_hat = test.copy()\n",
    "y_hat['naive'] = dd[len(dd)-1]\n",
    "plt.figure(figsize=(12,8))\n",
    "plt.plot(train.index, train['Weekly_Sales'], label='Train')\n",
    "plt.plot(test.index,test['Weekly_Sales'], label='Test')\n",
    "plt.plot(y_hat.index,y_hat['naive'], label='Naive Forecast')\n",
    "plt.legend(loc='best')\n",
    "plt.title(\"Naive Forecast\")\n",
    "plt.show()"
   ]
  },
  {
   "cell_type": "markdown",
   "metadata": {},
   "source": [
    "Let's use RMSE to check the accuracy of our model on the test data set."
   ]
  },
  {
   "cell_type": "code",
   "execution_count": null,
   "metadata": {
    "ExecuteTime": {
     "end_time": "2021-03-15T21:20:22.319533Z",
     "start_time": "2021-03-15T21:20:19.356154Z"
    }
   },
   "outputs": [],
   "source": [
    "from sklearn.metrics import mean_squared_error\n",
    "from math import sqrt\n",
    "rms = sqrt(mean_squared_error(test.Weekly_Sales, y_hat.naive))\n",
    "print(rms)"
   ]
  },
  {
   "cell_type": "markdown",
   "metadata": {},
   "source": [
    "We can infer from the RMSE value and the graph above that the naive method isn’t suited for data sets with high variability. It's best suited for stable data sets. We can still improve our score by adopting different techniques, however. Let's try a different technique to attempt to improve the accuracy score."
   ]
  },
  {
   "cell_type": "markdown",
   "metadata": {
    "collapsed": true
   },
   "source": [
    "### Method 2: Simple Average"
   ]
  },
  {
   "cell_type": "markdown",
   "metadata": {
    "collapsed": true
   },
   "source": [
    "**Simple average** is a useful method when the values of interest are increasing and decreasing randomly by a small margin but the average remains constant. Simple average forecasts the weekly sales of the next time period to be somewhat similar to the average of all of the previous time periods. \n",
    "\n",
    "$$\\hat y_{t+1} = \\dfrac{1}{x} \\sum_{i=1}^{x} y_i$$"
   ]
  },
  {
   "cell_type": "code",
   "execution_count": null,
   "metadata": {
    "ExecuteTime": {
     "end_time": "2021-03-15T21:22:08.103061Z",
     "start_time": "2021-03-15T21:22:07.571145Z"
    }
   },
   "outputs": [],
   "source": [
    "y_hat_avg = test.copy()\n",
    "y_hat_avg['avg_forecast'] = train['Weekly_Sales'].mean()\n",
    "plt.figure(figsize=(12,8))\n",
    "plt.plot(train['Weekly_Sales'], label='Train')\n",
    "plt.plot(test['Weekly_Sales'], label='Test')\n",
    "plt.plot(y_hat_avg['avg_forecast'], label='Average Forecast')\n",
    "plt.legend(loc='best')\n",
    "plt.show()"
   ]
  },
  {
   "cell_type": "markdown",
   "metadata": {
    "collapsed": true
   },
   "source": [
    "Now, let's calculate RMSE to check to accuracy of our model."
   ]
  },
  {
   "cell_type": "code",
   "execution_count": null,
   "metadata": {
    "ExecuteTime": {
     "end_time": "2021-03-15T21:22:24.346882Z",
     "start_time": "2021-03-15T21:22:24.320941Z"
    }
   },
   "outputs": [],
   "source": [
    "rms = sqrt(mean_squared_error(test.Weekly_Sales, y_hat_avg.avg_forecast))\n",
    "print(rms)"
   ]
  },
  {
   "cell_type": "markdown",
   "metadata": {},
   "source": [
    "This model improved the score a bit. The simple average method works best when the average at each time period remains constant."
   ]
  },
  {
   "cell_type": "markdown",
   "metadata": {},
   "source": [
    "### Method 3: Moving Average"
   ]
  },
  {
   "cell_type": "markdown",
   "metadata": {
    "collapsed": true
   },
   "source": [
    "When we have data sets in which the sales/value has increased or decreased sharply some time periods ago, simply using the previous average of all of the data (like the simple average method) isn't appropriate. An improvement over the simple average in this case will only take the average of the sales for the last few time periods, as we are think that only recent values may matter. This is called the **moving average** technique and it uses a sliding time period window to calculate the average. \n",
    "\n",
    "Using a simple moving average model, we forecast the next value(s) in a time series based on the average of a fixed finite number (`p`) of the previous values. Thus, for all `i > p`:\n",
    "\n",
    "$$\\hat y_{t+1} = \\dfrac{1}{p} (y_{i-1} + y_{i-2} + y_{i-3} + ... + y_{i-p})$$\n",
    "\n",
    "A moving average can be quite effective if you pick the right `p` for the series."
   ]
  },
  {
   "cell_type": "code",
   "execution_count": null,
   "metadata": {
    "ExecuteTime": {
     "end_time": "2021-03-15T21:23:58.436039Z",
     "start_time": "2021-03-15T21:23:57.893298Z"
    }
   },
   "outputs": [],
   "source": [
    "y_hat_avg = test.copy()\n",
    "y_hat_avg['moving_avg_forecast'] = train['Weekly_Sales'].rolling(8).mean().iloc[-1]\n",
    "plt.figure(figsize=(16,8))\n",
    "plt.plot(train['Weekly_Sales'], label='Train')\n",
    "plt.plot(test['Weekly_Sales'], label='Test')\n",
    "plt.plot(y_hat_avg['moving_avg_forecast'], label='Moving Average Forecast')\n",
    "plt.legend(loc='best')\n",
    "plt.show()"
   ]
  },
  {
   "cell_type": "markdown",
   "metadata": {},
   "source": [
    "We chose the data from the last eight weeks. We will now calculate RMSE to check to accuracy of our model."
   ]
  },
  {
   "cell_type": "code",
   "execution_count": null,
   "metadata": {
    "ExecuteTime": {
     "end_time": "2021-03-15T21:23:48.235779Z",
     "start_time": "2021-03-15T21:23:48.217280Z"
    }
   },
   "outputs": [],
   "source": [
    "rms = sqrt(mean_squared_error(test.Weekly_Sales, y_hat_avg.moving_avg_forecast))\n",
    "print(rms)"
   ]
  },
  {
   "cell_type": "markdown",
   "metadata": {},
   "source": [
    "This didn't perform very well. Perhaps we picked an incorrect `p`, or perhaps this method isn't the best for our data set.\n",
    "\n",
    "An advancement over the moving average method is the **weighted moving average** method. In the moving average method, we weigh the past `n` observations equally. But, we might encounter situations where each of the observations from the past `n` impacts the forecast in a different way. Typically, weights are chosen so that more recent points matter more. \n",
    "\n",
    "$$\\hat y_{t+1} = \\dfrac{1}{p} (w_1*y_{i-1} + w_2*y_{i-2} + w_3*y_{i-3} + ... + w_p*y_{i-p})$$"
   ]
  },
  {
   "cell_type": "markdown",
   "metadata": {},
   "source": [
    "### Method 4: Simple Exponential Smoothing "
   ]
  },
  {
   "cell_type": "markdown",
   "metadata": {},
   "source": [
    "Simple average and weighted moving average lie on opposite sides of the spectrum. **Simple exponential smoothing** lies between these two extremes and takes into account all of the data while weighing the data points differently. Simple exponential smoothing will calculate the forecast using weighted averages where the weights decrease exponentially as observations come from further in the past (the closet data points in time are weighted more heavily). \n",
    "\n",
    "$$\\hat y_{t+1} = \\alpha y_t + \\alpha (1-\\alpha)y_{t-1} + (1-\\alpha)^2 y_{t-2} + ...$$\n",
    "\n",
    "The one-step-ahead forecast for time `t+1` is a weighted average of all of the observations in the series (`y1,…,yt`). The rate at which the weights decrease is controlled by the parameter, `α` (which is between 0 and 1)."
   ]
  },
  {
   "cell_type": "code",
   "execution_count": null,
   "metadata": {
    "ExecuteTime": {
     "end_time": "2021-03-15T21:25:16.233836Z",
     "start_time": "2021-03-15T21:25:14.823632Z"
    }
   },
   "outputs": [],
   "source": [
    "from statsmodels.tsa.api import ExponentialSmoothing, SimpleExpSmoothing, Holt\n",
    "y_hat_avg = test.copy()\n",
    "fit2 = SimpleExpSmoothing(np.asarray(train['Weekly_Sales'])).fit(smoothing_level=0.6,optimized=False)\n",
    "y_hat_avg['SES'] = fit2.forecast(len(test))\n",
    "plt.figure(figsize=(16,8))\n",
    "plt.plot(train['Weekly_Sales'], label='Train')\n",
    "plt.plot(test['Weekly_Sales'], label='Test')\n",
    "plt.plot(y_hat_avg['SES'], label='SES')\n",
    "plt.legend(loc='best')\n",
    "plt.show()"
   ]
  },
  {
   "cell_type": "markdown",
   "metadata": {},
   "source": [
    "Now, let's use RMSE to check to accuracy of our model."
   ]
  },
  {
   "cell_type": "code",
   "execution_count": null,
   "metadata": {
    "ExecuteTime": {
     "end_time": "2021-03-15T21:25:29.201938Z",
     "start_time": "2021-03-15T21:25:29.193639Z"
    }
   },
   "outputs": [],
   "source": [
    "rms = sqrt(mean_squared_error(test.Weekly_Sales, y_hat_avg.SES))\n",
    "print(rms)"
   ]
  },
  {
   "cell_type": "markdown",
   "metadata": {
    "collapsed": true
   },
   "source": [
    "### Method 5: Holt's Linear Trend"
   ]
  },
  {
   "cell_type": "markdown",
   "metadata": {},
   "source": [
    "The methods we've looked at so far don't do well when our data have high variations. If our data contain a trend, none of the previous methods would be able to take that into account. A method that can is **Holt's linear trend** method. \n",
    "\n",
    "Recall that a time series data set can be decomposed into its trend, seasonality, and residual components. If the data set contains a trend, then Holt's linear trend method can be applied. "
   ]
  },
  {
   "cell_type": "code",
   "execution_count": null,
   "metadata": {
    "ExecuteTime": {
     "end_time": "2021-03-15T21:29:03.418522Z",
     "start_time": "2021-03-15T21:29:00.822986Z"
    }
   },
   "outputs": [],
   "source": [
    "import statsmodels.api as sm\n",
    "sm.tsa.seasonal_decompose(store1_sales.Weekly_Sales).plot()\n",
    "result = sm.tsa.stattools.adfuller(store1_sales.Weekly_Sales)\n",
    "plt.show()"
   ]
  },
  {
   "cell_type": "markdown",
   "metadata": {},
   "source": [
    "From these graphs, we can see that the data set follows an increasing trend, and we can use Holt's linear trend method to forecast the future sales. \n",
    "\n",
    "Holt's linear trend is exponential smoothing applied to both the average value of the series (called \"level\") and trend. \n",
    "\n",
    "To generate the forecasting equation, we will add these equations together. \n",
    "\n",
    "<h3><center>Level Equation</center></h3>: $$\\ell_t = \\alpha y_t + (1 - \\alpha)(\\ell_{t-1} + b_{t-1})$$ \n",
    "<h3><center>Trend Equation</center></h3>: $$b_t = \\beta *(\\ell_t - \\ell_{t-1}) + (1 - \\beta)b_{t-1}$$\n",
    "\n",
    "We will add these equations together to generate the forecast equation. \n",
    "\n",
    "<h3><center>Forecast Equation</center></h3>: \n",
    "$$\\hat y_{t+h|1}= \\ell_t + hb_t $$\n",
    "\n",
    "We could have also multiplied the trend and level together to generate a multiplicative forecast equation. When the trend is linear, the additive equation is used. When the trend is exponential, the multiplicative equation is used. The multiplicative equation is usually a more stable predictor (but the additive is more intuitive). "
   ]
  },
  {
   "cell_type": "code",
   "execution_count": null,
   "metadata": {
    "ExecuteTime": {
     "end_time": "2021-03-15T21:31:14.012133Z",
     "start_time": "2021-03-15T21:31:13.406962Z"
    }
   },
   "outputs": [],
   "source": [
    "y_hat_avg = test.copy()\n",
    "\n",
    "fit1 = Holt(np.asarray(train['Weekly_Sales'])).fit(smoothing_level = 0.3,smoothing_slope = 0.1)\n",
    "y_hat_avg['Holt_linear'] = fit1.forecast(len(test))\n",
    "\n",
    "plt.figure(figsize=(16,8))\n",
    "plt.plot(train['Weekly_Sales'], label='Train')\n",
    "plt.plot(test['Weekly_Sales'], label='Test')\n",
    "plt.plot(y_hat_avg['Holt_linear'], label='Holt_linear')\n",
    "plt.legend(loc='best')\n",
    "plt.show()"
   ]
  },
  {
   "cell_type": "code",
   "execution_count": null,
   "metadata": {
    "ExecuteTime": {
     "end_time": "2021-03-15T21:31:34.889746Z",
     "start_time": "2021-03-15T21:31:34.848426Z"
    }
   },
   "outputs": [],
   "source": [
    "rms = sqrt(mean_squared_error(test.Weekly_Sales, y_hat_avg.Holt_linear))\n",
    "print(rms)"
   ]
  },
  {
   "cell_type": "markdown",
   "metadata": {},
   "source": [
    "### Method 6: Holt-Winters Method"
   ]
  },
  {
   "cell_type": "markdown",
   "metadata": {},
   "source": [
    "So far, we haven't taken into account the seasonality of the data set while forecasting. **Holt's Winter** method takes into account both trend and seasonality to forecast future sales. With this method, we will apply exponential smoothing to the seasonal components as well as the level and trend components. \n",
    "\n",
    "<h3><center>Level Equation</center></h3>: $$L_t = \\alpha (y_t - S_{t-s}) + (1 - \\alpha)(L_{t-1} + b_{t-1})$$ \n",
    "<h3><center>Trend Equation</center></h3>: $$b_t = \\beta *(L_t - L_{t-1}) + (1 - \\beta)b_{t-1}$$\n",
    "<h3><center>Seasonality Equation</center></h3>: $$S_t = \\gamma(y_t-L_t)+(1-\\gamma)S_{t-s}$$\n",
    "<h3><center>Forecast Equation</center></h3>: $$F_{t+k} = L_t + kb_t+S_{t+k-s}$$\n",
    "\n",
    "(Where `α`, `β`, and `γ` are the smoothing parameters — each between 0 and 1 — and `s` is the length of the seasonal cycle.)\n",
    "\n",
    "The trend equation is identical to the equation we used for Holt's linear trend method. The level equation is a weighted average between the seasonally adjusted observation and the non-seasonal forecast for time `t`. The seasonal equation is a weighted average between the current seasonal index and the seasonal index of the same season `s` time periods ago. \n",
    "\n",
    "Just like in Holt's linear trend method, we can use either additive or multiplicative forecasting equations. When the seasonal variations are roughly constant throughout the series, we will use the additive method. When the seasonal variations change depending on the level of the series, we will use the multiplicative method. "
   ]
  },
  {
   "cell_type": "code",
   "execution_count": null,
   "metadata": {
    "ExecuteTime": {
     "end_time": "2021-03-15T21:31:57.132440Z",
     "start_time": "2021-03-15T21:31:56.422337Z"
    }
   },
   "outputs": [],
   "source": [
    "y_hat_avg = test.copy()\n",
    "fit1 = ExponentialSmoothing(np.asarray(train['Weekly_Sales']) ,seasonal_periods=7 ,trend='add', seasonal='add',).fit()\n",
    "y_hat_avg['Holt_Winter'] = fit1.forecast(len(test))\n",
    "plt.figure(figsize=(16,8))\n",
    "plt.plot( train['Weekly_Sales'], label='Train')\n",
    "plt.plot(test['Weekly_Sales'], label='Test')\n",
    "plt.plot(y_hat_avg['Holt_Winter'], label='Holt_Winter')\n",
    "plt.legend(loc='best')\n",
    "plt.show()"
   ]
  },
  {
   "cell_type": "markdown",
   "metadata": {},
   "source": [
    "Let's look at the RMSE to check accuracy."
   ]
  },
  {
   "cell_type": "code",
   "execution_count": null,
   "metadata": {
    "ExecuteTime": {
     "end_time": "2021-03-15T21:32:54.923986Z",
     "start_time": "2021-03-15T21:32:54.899620Z"
    }
   },
   "outputs": [],
   "source": [
    "rms = sqrt(mean_squared_error(test.Weekly_Sales, y_hat_avg.Holt_Winter))\n",
    "print(rms)"
   ]
  },
  {
   "cell_type": "markdown",
   "metadata": {},
   "source": [
    "### Method 7: ARIMA"
   ]
  },
  {
   "cell_type": "markdown",
   "metadata": {},
   "source": [
    "A very popular forecasting method is **ARIMA**, which stands for **autoregressive integrated moving average.** With the exponential smoothing methods we've been using, we've been basing our forecasts on the trend and seasonality in the data. ARIMA models describe the correlations in the data with each other. \n",
    "\n",
    "The **seasonal ARIMA** takes into account seasonality (like Holt's Winter method did).\n",
    "\n",
    "We can use the ACF and PACF to pick a model and our parameters for ARIMA."
   ]
  },
  {
   "cell_type": "markdown",
   "metadata": {},
   "source": [
    "#### Using the ACF and PACF Plots to Pick a Model"
   ]
  },
  {
   "cell_type": "markdown",
   "metadata": {},
   "source": [
    "Recall from the section on autocorrelation that the autocorrelation function (ACF) is a plot of total correlation between different lag functions. \n",
    "\n",
    "In a moving average series of lag `n`, we will not get any correlation between `x(t)` and `x(t – n -1)`, so the total correlation chart cuts off at `n`th lag. In other words, we can determine the lag for an MA series by when the ACF drops off sharply. For an AR series, this correlation will gradually go down without any cut-off value.\n",
    "\n",
    "If the ACF tells us it is an AR series, then we turn to the PACF. If we find out the partial correlation of each lag, it will cut off after the degree of the AR series. For instance, if we have a AR(1) series, if we exclude the effect of first lag (`x (t-1)`), our second lag (`x (t-2)`) is independent of `x(t)`. Hence, the partial correlation function (PACF) will drop sharply after the first lag."
   ]
  },
  {
   "cell_type": "markdown",
   "metadata": {},
   "source": [
    "#### ARIMA Model"
   ]
  },
  {
   "cell_type": "code",
   "execution_count": null,
   "metadata": {
    "ExecuteTime": {
     "end_time": "2021-03-15T21:34:21.606689Z",
     "start_time": "2021-03-15T21:34:18.559386Z"
    }
   },
   "outputs": [],
   "source": [
    "y_hat_avg = test.copy()\n",
    "fit1 = sm.tsa.statespace.SARIMAX(train.Weekly_Sales, order=(2, 1, 4),seasonal_order=(0,1,1,7)).fit()\n",
    "y_hat_avg['SARIMA'] = fit1.predict( start=\"2012-01-06\", end=\"2012-10-26\", dynamic=True)\n",
    "plt.figure(figsize=(16,8))\n",
    "plt.plot( train['Weekly_Sales'], label='Train')\n",
    "plt.plot(test['Weekly_Sales'], label='Test')\n",
    "plt.plot(y_hat_avg['SARIMA'], label='SARIMA')\n",
    "plt.legend(loc='best')\n",
    "plt.show()"
   ]
  },
  {
   "cell_type": "markdown",
   "metadata": {},
   "source": [
    "Let's check the RMSE for accuracy of the model."
   ]
  },
  {
   "cell_type": "code",
   "execution_count": null,
   "metadata": {
    "ExecuteTime": {
     "end_time": "2021-03-15T21:34:43.610535Z",
     "start_time": "2021-03-15T21:34:43.577568Z"
    }
   },
   "outputs": [],
   "source": [
    "rms = sqrt(mean_squared_error(test.Weekly_Sales, y_hat_avg.SARIMA))\n",
    "print(rms)"
   ]
  },
  {
   "cell_type": "code",
   "execution_count": null,
   "metadata": {},
   "outputs": [],
   "source": []
  }
 ],
 "metadata": {
  "kernelspec": {
   "display_name": "Python 3",
   "language": "python",
   "name": "python3"
  },
  "language_info": {
   "codemirror_mode": {
    "name": "ipython",
    "version": 3
   },
   "file_extension": ".py",
   "mimetype": "text/x-python",
   "name": "python",
   "nbconvert_exporter": "python",
   "pygments_lexer": "ipython3",
   "version": "3.7.3"
  },
  "toc": {
   "base_numbering": 1,
   "nav_menu": {},
   "number_sections": false,
   "sideBar": true,
   "skip_h1_title": false,
   "title_cell": "Table of Contents",
   "title_sidebar": "Contents",
   "toc_cell": false,
   "toc_position": {},
   "toc_section_display": true,
   "toc_window_display": false
  }
 },
 "nbformat": 4,
 "nbformat_minor": 2
}
